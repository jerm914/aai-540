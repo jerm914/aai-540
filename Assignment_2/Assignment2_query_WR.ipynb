{
 "cells": [
  {
   "cell_type": "code",
   "execution_count": 1,
   "id": "20e345a7-0087-4dd8-b15c-7d85a020c276",
   "metadata": {},
   "outputs": [],
   "source": [
    "import boto3\n",
    "import sagemaker\n",
    "\n",
    "sess = sagemaker.Session()\n",
    "bucket = sess.default_bucket()\n",
    "role = sagemaker.get_execution_role()\n",
    "region = boto3.Session().region_name"
   ]
  },
  {
   "cell_type": "code",
   "execution_count": 2,
   "id": "b024b40e-8206-4d8c-ba7e-e1b84b97e00d",
   "metadata": {},
   "outputs": [],
   "source": [
    "ingest_create_athena_table_parquet_passed = False"
   ]
  },
  {
   "cell_type": "code",
   "execution_count": 4,
   "id": "d03918fb-3844-45f1-899a-ad1da2014b1f",
   "metadata": {},
   "outputs": [],
   "source": [
    "%store -r ingest_create_athena_table_csv_passed"
   ]
  },
  {
   "cell_type": "code",
   "execution_count": 5,
   "id": "d587eeef-b132-431d-9b11-15995b2b8b0f",
   "metadata": {},
   "outputs": [],
   "source": [
    "try:\n",
    "    ingest_create_athena_table_csv_passed\n",
    "except NameError:\n",
    "    print(\"++++++++++++++++++++++++++++++++++++++++++++++\")\n",
    "    print(\"[ERROR] YOU HAVE TO RUN ALL PREVIOUS NOTEBOOKS.  You did not register the TSV Data.\")\n",
    "    print(\"++++++++++++++++++++++++++++++++++++++++++++++\")"
   ]
  },
  {
   "cell_type": "code",
   "execution_count": 6,
   "id": "f1f07427-b5bc-43fe-b40e-647e7c138a7a",
   "metadata": {},
   "outputs": [
    {
     "name": "stdout",
     "output_type": "stream",
     "text": [
      "True\n"
     ]
    }
   ],
   "source": [
    "print(ingest_create_athena_table_csv_passed)"
   ]
  },
  {
   "cell_type": "code",
   "execution_count": 7,
   "id": "fc35ee3b-8950-4354-9921-b64294085841",
   "metadata": {},
   "outputs": [
    {
     "name": "stdout",
     "output_type": "stream",
     "text": [
      "[OK]\n"
     ]
    }
   ],
   "source": [
    "if not ingest_create_athena_table_tsv_passed:\n",
    "    print(\"++++++++++++++++++++++++++++++++++++++++++++++\")\n",
    "    print(\"[ERROR] YOU HAVE TO RUN ALL PREVIOUS NOTEBOOKS.  You did not register the TSV Data.\")\n",
    "    print(\"++++++++++++++++++++++++++++++++++++++++++++++\")\n",
    "else:\n",
    "    print(\"[OK]\")"
   ]
  },
  {
   "cell_type": "markdown",
   "id": "02845d20-2b84-4cca-8185-4ca15f07c3e4",
   "metadata": {},
   "source": [
    "# Import PyAthena"
   ]
  },
  {
   "cell_type": "code",
   "execution_count": 8,
   "id": "8912fffd-5b62-4a29-ba1e-1614f4a513a0",
   "metadata": {},
   "outputs": [],
   "source": [
    "from pyathena import connect"
   ]
  },
  {
   "cell_type": "markdown",
   "id": "9f5e6bb0-3a0d-4909-8e2d-99badda06d4e",
   "metadata": {},
   "source": [
    "# Create Parquet Files from TSV Table"
   ]
  },
  {
   "cell_type": "code",
   "execution_count": null,
   "id": "9363dd13-e675-4707-9f51-942f2f288efe",
   "metadata": {},
   "outputs": [],
   "source": []
  },
  {
   "cell_type": "code",
   "execution_count": 9,
   "id": "ae87885c-faba-4ff8-bba6-b4411efb0761",
   "metadata": {},
   "outputs": [],
   "source": [
    "%store -r ingest_create_athena_table_csv_passed"
   ]
  },
  {
   "cell_type": "code",
   "execution_count": 10,
   "id": "9e0356d7-c5f6-44ec-92da-49b084fa5800",
   "metadata": {},
   "outputs": [],
   "source": [
    "try:\n",
    "    ingest_create_athena_table_csv_passed\n",
    "except NameError:\n",
    "    print(\"++++++++++++++++++++++++++++++++++++++++++++++\")\n",
    "    print(\"[ERROR] YOU HAVE TO RUN ALL PREVIOUS NOTEBOOKS.  You did not register the TSV Data.\")\n",
    "    print(\"++++++++++++++++++++++++++++++++++++++++++++++\")"
   ]
  },
  {
   "cell_type": "code",
   "execution_count": 11,
   "id": "2a23bfda-f5e1-4d80-8d3c-5f5dfbcbc484",
   "metadata": {},
   "outputs": [
    {
     "name": "stdout",
     "output_type": "stream",
     "text": [
      "True\n"
     ]
    }
   ],
   "source": [
    "print(ingest_create_athena_table_csv_passed)"
   ]
  },
  {
   "cell_type": "code",
   "execution_count": 12,
   "id": "ed2a921a-14cd-456f-9cfb-c400e07df83a",
   "metadata": {},
   "outputs": [
    {
     "name": "stdout",
     "output_type": "stream",
     "text": [
      "[OK]\n"
     ]
    }
   ],
   "source": [
    "if not ingest_create_athena_table_csv_passed:\n",
    "    print(\"++++++++++++++++++++++++++++++++++++++++++++++\")\n",
    "    print(\"[ERROR] YOU HAVE TO RUN ALL PREVIOUS NOTEBOOKS.  You did not register the TSV Data.\")\n",
    "    print(\"++++++++++++++++++++++++++++++++++++++++++++++\")\n",
    "else:\n",
    "    print(\"[OK]\")"
   ]
  },
  {
   "cell_type": "code",
   "execution_count": 13,
   "id": "c5520075-8539-41ac-b0e6-bfc8f3044999",
   "metadata": {},
   "outputs": [],
   "source": [
    "%store -r ingest_create_athena_table_parquet_passed"
   ]
  },
  {
   "cell_type": "code",
   "execution_count": 14,
   "id": "9d9ab488-af60-4e5a-8d75-d41149584a0d",
   "metadata": {},
   "outputs": [],
   "source": [
    "try:\n",
    "    ingest_create_athena_table_parquet_passed\n",
    "except NameError:\n",
    "    print(\"++++++++++++++++++++++++++++++++++++++++++++++\")\n",
    "    print(\"[ERROR] YOU HAVE TO RUN ALL PREVIOUS NOTEBOOKS.  You did not convert into Parquet data.\")\n",
    "    print(\"++++++++++++++++++++++++++++++++++++++++++++++\")"
   ]
  },
  {
   "cell_type": "code",
   "execution_count": 15,
   "id": "0173a660-28a6-4768-88db-2ea6581a0fc5",
   "metadata": {},
   "outputs": [
    {
     "name": "stdout",
     "output_type": "stream",
     "text": [
      "True\n"
     ]
    }
   ],
   "source": [
    "print(ingest_create_athena_table_parquet_passed)"
   ]
  },
  {
   "cell_type": "code",
   "execution_count": 16,
   "id": "37e4d17b-de06-487f-9c6a-e8a37b7c50f8",
   "metadata": {},
   "outputs": [
    {
     "name": "stdout",
     "output_type": "stream",
     "text": [
      "[OK]\n"
     ]
    }
   ],
   "source": [
    "if not ingest_create_athena_table_parquet_passed:\n",
    "    print(\"++++++++++++++++++++++++++++++++++++++++++++++\")\n",
    "    print(\"[ERROR] YOU HAVE TO RUN ALL PREVIOUS NOTEBOOKS.  You did not convert into Parquet data.\")\n",
    "    print(\"++++++++++++++++++++++++++++++++++++++++++++++\")\n",
    "else:\n",
    "    print(\"[OK]\")"
   ]
  },
  {
   "cell_type": "markdown",
   "id": "0e1e788f-892f-484e-8a58-b1c31ae8687f",
   "metadata": {},
   "source": [
    "# Setup"
   ]
  },
  {
   "cell_type": "code",
   "execution_count": 17,
   "id": "a8f1b6b3-3c86-48c1-a97f-a9dd5fcd6b42",
   "metadata": {},
   "outputs": [],
   "source": [
    "import sagemaker\n",
    "import boto3\n",
    "\n",
    "sess = sagemaker.Session()\n",
    "bucket = sess.default_bucket()\n",
    "role = sagemaker.get_execution_role()\n",
    "region = boto3.Session().region_name\n",
    "\n",
    "sm = boto3.Session().client(service_name=\"sagemaker\", region_name=region)"
   ]
  },
  {
   "cell_type": "code",
   "execution_count": 18,
   "id": "5b0ac614-a16b-4ae0-9b10-311b844e7b66",
   "metadata": {},
   "outputs": [],
   "source": [
    "import awswrangler as wr"
   ]
  },
  {
   "cell_type": "code",
   "execution_count": 19,
   "id": "322f5dfc-29d2-41ab-88a8-b2c184a8e542",
   "metadata": {},
   "outputs": [],
   "source": [
    "p_filter = lambda x: x[\"product_category\"] == \"Digital_Software\""
   ]
  },
  {
   "cell_type": "code",
   "execution_count": 20,
   "id": "2ff4f766-b362-4a02-8f4d-a48c33fd15b5",
   "metadata": {},
   "outputs": [],
   "source": [
    "database_name = \"dsoaws1\"\n",
    "table_name_csv = \"cleaned_data_csv\""
   ]
  },
  {
   "cell_type": "code",
   "execution_count": 21,
   "id": "e656e968-220c-4a16-999d-3ad893ca148d",
   "metadata": {},
   "outputs": [
    {
     "name": "stdout",
     "output_type": "stream",
     "text": [
      "cleaned_data_csv\n"
     ]
    }
   ],
   "source": [
    "for table in wr.catalog.get_tables(database=\"dsoaws1\"):\n",
    "    print(table[\"Name\"])"
   ]
  },
  {
   "cell_type": "code",
   "execution_count": 22,
   "id": "96c645ce-978b-4e58-99c4-9e0bd96175d5",
   "metadata": {},
   "outputs": [
    {
     "name": "stdout",
     "output_type": "stream",
     "text": [
      "CPU times: user 1.24 s, sys: 148 ms, total: 1.39 s\n",
      "Wall time: 4.64 s\n"
     ]
    }
   ],
   "source": [
    "%%time\n",
    "df = wr.athena.read_sql_query(sql=\"SELECT * FROM {} LIMIT 5000\".format(table_name_csv), database=database_name)"
   ]
  },
  {
   "cell_type": "code",
   "execution_count": 29,
   "id": "e3d4823a-421f-43b7-9246-d3eba3986a28",
   "metadata": {},
   "outputs": [
    {
     "data": {
      "text/html": [
       "<div>\n",
       "<style scoped>\n",
       "    .dataframe tbody tr th:only-of-type {\n",
       "        vertical-align: middle;\n",
       "    }\n",
       "\n",
       "    .dataframe tbody tr th {\n",
       "        vertical-align: top;\n",
       "    }\n",
       "\n",
       "    .dataframe thead th {\n",
       "        text-align: right;\n",
       "    }\n",
       "</style>\n",
       "<table border=\"1\" class=\"dataframe\">\n",
       "  <thead>\n",
       "    <tr style=\"text-align: right;\">\n",
       "      <th></th>\n",
       "      <th>track_id</th>\n",
       "      <th>artists</th>\n",
       "      <th>track_name</th>\n",
       "      <th>popularity</th>\n",
       "      <th>duration_ms</th>\n",
       "      <th>explicit</th>\n",
       "      <th>danceability</th>\n",
       "      <th>energy</th>\n",
       "      <th>key</th>\n",
       "      <th>loudness</th>\n",
       "      <th>mode</th>\n",
       "      <th>speechiness</th>\n",
       "      <th>acousticness</th>\n",
       "      <th>instrumentalness</th>\n",
       "      <th>liveness</th>\n",
       "      <th>valence</th>\n",
       "      <th>tempo</th>\n",
       "      <th>time_signature</th>\n",
       "      <th>track_genre</th>\n",
       "    </tr>\n",
       "  </thead>\n",
       "  <tbody>\n",
       "    <tr>\n",
       "      <th>0</th>\n",
       "      <td>5SuOikwiRyPMVoIQDJUgSV</td>\n",
       "      <td>Gen Hoshino</td>\n",
       "      <td>Comedy</td>\n",
       "      <td>73</td>\n",
       "      <td>230666</td>\n",
       "      <td>False</td>\n",
       "      <td>0.676</td>\n",
       "      <td>0.4610</td>\n",
       "      <td>1</td>\n",
       "      <td>-6.746000</td>\n",
       "      <td>0</td>\n",
       "      <td>0.1430</td>\n",
       "      <td>0.03220</td>\n",
       "      <td>0.000001</td>\n",
       "      <td>0.3580</td>\n",
       "      <td>0.715</td>\n",
       "      <td>87.917000</td>\n",
       "      <td>4</td>\n",
       "      <td>acoustic</td>\n",
       "    </tr>\n",
       "    <tr>\n",
       "      <th>1</th>\n",
       "      <td>4qPNDBW1i3p13qLCt0Ki3A</td>\n",
       "      <td>Ben Woodward</td>\n",
       "      <td>Ghost - Acoustic</td>\n",
       "      <td>55</td>\n",
       "      <td>149610</td>\n",
       "      <td>False</td>\n",
       "      <td>0.420</td>\n",
       "      <td>0.1660</td>\n",
       "      <td>1</td>\n",
       "      <td>-17.235001</td>\n",
       "      <td>1</td>\n",
       "      <td>0.0763</td>\n",
       "      <td>0.92400</td>\n",
       "      <td>0.000006</td>\n",
       "      <td>0.1010</td>\n",
       "      <td>0.267</td>\n",
       "      <td>77.488998</td>\n",
       "      <td>4</td>\n",
       "      <td>acoustic</td>\n",
       "    </tr>\n",
       "    <tr>\n",
       "      <th>2</th>\n",
       "      <td>1iJBSr7s7jYXzM8EGcbK5b</td>\n",
       "      <td>Ingrid Michaelson;ZAYN</td>\n",
       "      <td>To Begin Again</td>\n",
       "      <td>57</td>\n",
       "      <td>210826</td>\n",
       "      <td>False</td>\n",
       "      <td>0.438</td>\n",
       "      <td>0.3590</td>\n",
       "      <td>0</td>\n",
       "      <td>-9.734000</td>\n",
       "      <td>1</td>\n",
       "      <td>0.0557</td>\n",
       "      <td>0.21000</td>\n",
       "      <td>0.000000</td>\n",
       "      <td>0.1170</td>\n",
       "      <td>0.120</td>\n",
       "      <td>76.332001</td>\n",
       "      <td>4</td>\n",
       "      <td>acoustic</td>\n",
       "    </tr>\n",
       "    <tr>\n",
       "      <th>3</th>\n",
       "      <td>6lfxq3CG4xtTiEg7opyCyx</td>\n",
       "      <td>Kina Grannis</td>\n",
       "      <td>Can't Help Falling In Love</td>\n",
       "      <td>71</td>\n",
       "      <td>201933</td>\n",
       "      <td>False</td>\n",
       "      <td>0.266</td>\n",
       "      <td>0.0596</td>\n",
       "      <td>0</td>\n",
       "      <td>-18.514999</td>\n",
       "      <td>1</td>\n",
       "      <td>0.0363</td>\n",
       "      <td>0.90500</td>\n",
       "      <td>0.000071</td>\n",
       "      <td>0.1320</td>\n",
       "      <td>0.143</td>\n",
       "      <td>181.740005</td>\n",
       "      <td>3</td>\n",
       "      <td>acoustic</td>\n",
       "    </tr>\n",
       "    <tr>\n",
       "      <th>4</th>\n",
       "      <td>5vjLSffimiIP26QG5WcN2K</td>\n",
       "      <td>Chord Overstreet</td>\n",
       "      <td>Hold On</td>\n",
       "      <td>82</td>\n",
       "      <td>198853</td>\n",
       "      <td>False</td>\n",
       "      <td>0.618</td>\n",
       "      <td>0.4430</td>\n",
       "      <td>2</td>\n",
       "      <td>-9.681000</td>\n",
       "      <td>1</td>\n",
       "      <td>0.0526</td>\n",
       "      <td>0.46900</td>\n",
       "      <td>0.000000</td>\n",
       "      <td>0.0829</td>\n",
       "      <td>0.167</td>\n",
       "      <td>119.948997</td>\n",
       "      <td>4</td>\n",
       "      <td>acoustic</td>\n",
       "    </tr>\n",
       "    <tr>\n",
       "      <th>...</th>\n",
       "      <td>...</td>\n",
       "      <td>...</td>\n",
       "      <td>...</td>\n",
       "      <td>...</td>\n",
       "      <td>...</td>\n",
       "      <td>...</td>\n",
       "      <td>...</td>\n",
       "      <td>...</td>\n",
       "      <td>...</td>\n",
       "      <td>...</td>\n",
       "      <td>...</td>\n",
       "      <td>...</td>\n",
       "      <td>...</td>\n",
       "      <td>...</td>\n",
       "      <td>...</td>\n",
       "      <td>...</td>\n",
       "      <td>...</td>\n",
       "      <td>...</td>\n",
       "      <td>...</td>\n",
       "    </tr>\n",
       "    <tr>\n",
       "      <th>4995</th>\n",
       "      <td>6pEzb2WKU1YQxRIHc6k1LG</td>\n",
       "      <td>Liquid Mind</td>\n",
       "      <td>\"Deep Sleep</td>\n",
       "      <td>&lt;NA&gt;</td>\n",
       "      <td>26</td>\n",
       "      <td>&lt;NA&gt;</td>\n",
       "      <td>NaN</td>\n",
       "      <td>0.1560</td>\n",
       "      <td>0</td>\n",
       "      <td>0.000000</td>\n",
       "      <td>-22</td>\n",
       "      <td>1.0000</td>\n",
       "      <td>0.03890</td>\n",
       "      <td>0.965000</td>\n",
       "      <td>0.9720</td>\n",
       "      <td>0.106</td>\n",
       "      <td>0.034100</td>\n",
       "      <td>74</td>\n",
       "      <td>4</td>\n",
       "    </tr>\n",
       "    <tr>\n",
       "      <th>4996</th>\n",
       "      <td>1gUAX2ImxDsB3YDcyxMXlB</td>\n",
       "      <td>美波</td>\n",
       "      <td>カワキヲアメク</td>\n",
       "      <td>71</td>\n",
       "      <td>251933</td>\n",
       "      <td>False</td>\n",
       "      <td>0.541</td>\n",
       "      <td>0.8460</td>\n",
       "      <td>6</td>\n",
       "      <td>-2.729000</td>\n",
       "      <td>0</td>\n",
       "      <td>0.0551</td>\n",
       "      <td>0.01220</td>\n",
       "      <td>0.000149</td>\n",
       "      <td>0.1630</td>\n",
       "      <td>0.524</td>\n",
       "      <td>129.138000</td>\n",
       "      <td>4</td>\n",
       "      <td>anime</td>\n",
       "    </tr>\n",
       "    <tr>\n",
       "      <th>4997</th>\n",
       "      <td>1di1C0QI6Y92yZPYn6XYAZ</td>\n",
       "      <td>KANA-BOON</td>\n",
       "      <td>シルエット</td>\n",
       "      <td>73</td>\n",
       "      <td>240133</td>\n",
       "      <td>False</td>\n",
       "      <td>0.436</td>\n",
       "      <td>0.9340</td>\n",
       "      <td>2</td>\n",
       "      <td>-2.685000</td>\n",
       "      <td>1</td>\n",
       "      <td>0.0507</td>\n",
       "      <td>0.00001</td>\n",
       "      <td>0.140000</td>\n",
       "      <td>0.3210</td>\n",
       "      <td>0.384</td>\n",
       "      <td>91.481003</td>\n",
       "      <td>4</td>\n",
       "      <td>anime</td>\n",
       "    </tr>\n",
       "    <tr>\n",
       "      <th>4998</th>\n",
       "      <td>3khEEPRyBeOUabbmOPJzAG</td>\n",
       "      <td>Kenshi Yonezu</td>\n",
       "      <td>KICK BACK</td>\n",
       "      <td>83</td>\n",
       "      <td>193495</td>\n",
       "      <td>False</td>\n",
       "      <td>0.577</td>\n",
       "      <td>0.9410</td>\n",
       "      <td>1</td>\n",
       "      <td>-5.170000</td>\n",
       "      <td>1</td>\n",
       "      <td>0.1050</td>\n",
       "      <td>0.00207</td>\n",
       "      <td>0.000003</td>\n",
       "      <td>0.0891</td>\n",
       "      <td>0.292</td>\n",
       "      <td>101.920998</td>\n",
       "      <td>4</td>\n",
       "      <td>anime</td>\n",
       "    </tr>\n",
       "    <tr>\n",
       "      <th>4999</th>\n",
       "      <td>1rN9QoVxw5U7TJkyaUR8C1</td>\n",
       "      <td>TK from Ling tosite sigure</td>\n",
       "      <td>unravel</td>\n",
       "      <td>73</td>\n",
       "      <td>238360</td>\n",
       "      <td>False</td>\n",
       "      <td>0.508</td>\n",
       "      <td>0.8890</td>\n",
       "      <td>7</td>\n",
       "      <td>-2.755000</td>\n",
       "      <td>0</td>\n",
       "      <td>0.0862</td>\n",
       "      <td>0.04950</td>\n",
       "      <td>0.000000</td>\n",
       "      <td>0.0984</td>\n",
       "      <td>0.332</td>\n",
       "      <td>135.014008</td>\n",
       "      <td>4</td>\n",
       "      <td>anime</td>\n",
       "    </tr>\n",
       "  </tbody>\n",
       "</table>\n",
       "<p>5000 rows × 19 columns</p>\n",
       "</div>"
      ],
      "text/plain": [
       "                    track_id                     artists  \\\n",
       "0     5SuOikwiRyPMVoIQDJUgSV                 Gen Hoshino   \n",
       "1     4qPNDBW1i3p13qLCt0Ki3A                Ben Woodward   \n",
       "2     1iJBSr7s7jYXzM8EGcbK5b      Ingrid Michaelson;ZAYN   \n",
       "3     6lfxq3CG4xtTiEg7opyCyx                Kina Grannis   \n",
       "4     5vjLSffimiIP26QG5WcN2K            Chord Overstreet   \n",
       "...                      ...                         ...   \n",
       "4995  6pEzb2WKU1YQxRIHc6k1LG                 Liquid Mind   \n",
       "4996  1gUAX2ImxDsB3YDcyxMXlB                          美波   \n",
       "4997  1di1C0QI6Y92yZPYn6XYAZ                   KANA-BOON   \n",
       "4998  3khEEPRyBeOUabbmOPJzAG               Kenshi Yonezu   \n",
       "4999  1rN9QoVxw5U7TJkyaUR8C1  TK from Ling tosite sigure   \n",
       "\n",
       "                      track_name  popularity  duration_ms  explicit  \\\n",
       "0                         Comedy          73       230666     False   \n",
       "1               Ghost - Acoustic          55       149610     False   \n",
       "2                 To Begin Again          57       210826     False   \n",
       "3     Can't Help Falling In Love          71       201933     False   \n",
       "4                        Hold On          82       198853     False   \n",
       "...                          ...         ...          ...       ...   \n",
       "4995                 \"Deep Sleep        <NA>           26      <NA>   \n",
       "4996                     カワキヲアメク          71       251933     False   \n",
       "4997                       シルエット          73       240133     False   \n",
       "4998                   KICK BACK          83       193495     False   \n",
       "4999                     unravel          73       238360     False   \n",
       "\n",
       "      danceability  energy  key   loudness  mode  speechiness  acousticness  \\\n",
       "0            0.676  0.4610    1  -6.746000     0       0.1430       0.03220   \n",
       "1            0.420  0.1660    1 -17.235001     1       0.0763       0.92400   \n",
       "2            0.438  0.3590    0  -9.734000     1       0.0557       0.21000   \n",
       "3            0.266  0.0596    0 -18.514999     1       0.0363       0.90500   \n",
       "4            0.618  0.4430    2  -9.681000     1       0.0526       0.46900   \n",
       "...            ...     ...  ...        ...   ...          ...           ...   \n",
       "4995           NaN  0.1560    0   0.000000   -22       1.0000       0.03890   \n",
       "4996         0.541  0.8460    6  -2.729000     0       0.0551       0.01220   \n",
       "4997         0.436  0.9340    2  -2.685000     1       0.0507       0.00001   \n",
       "4998         0.577  0.9410    1  -5.170000     1       0.1050       0.00207   \n",
       "4999         0.508  0.8890    7  -2.755000     0       0.0862       0.04950   \n",
       "\n",
       "      instrumentalness  liveness  valence       tempo  time_signature  \\\n",
       "0             0.000001    0.3580    0.715   87.917000               4   \n",
       "1             0.000006    0.1010    0.267   77.488998               4   \n",
       "2             0.000000    0.1170    0.120   76.332001               4   \n",
       "3             0.000071    0.1320    0.143  181.740005               3   \n",
       "4             0.000000    0.0829    0.167  119.948997               4   \n",
       "...                ...       ...      ...         ...             ...   \n",
       "4995          0.965000    0.9720    0.106    0.034100              74   \n",
       "4996          0.000149    0.1630    0.524  129.138000               4   \n",
       "4997          0.140000    0.3210    0.384   91.481003               4   \n",
       "4998          0.000003    0.0891    0.292  101.920998               4   \n",
       "4999          0.000000    0.0984    0.332  135.014008               4   \n",
       "\n",
       "     track_genre  \n",
       "0       acoustic  \n",
       "1       acoustic  \n",
       "2       acoustic  \n",
       "3       acoustic  \n",
       "4       acoustic  \n",
       "...          ...  \n",
       "4995           4  \n",
       "4996       anime  \n",
       "4997       anime  \n",
       "4998       anime  \n",
       "4999       anime  \n",
       "\n",
       "[5000 rows x 19 columns]"
      ]
     },
     "execution_count": 29,
     "metadata": {},
     "output_type": "execute_result"
    }
   ],
   "source": [
    "df"
   ]
  },
  {
   "cell_type": "code",
   "execution_count": 49,
   "id": "f68713e5-af24-4ed2-9c4f-8159476a7b38",
   "metadata": {},
   "outputs": [],
   "source": [
    "# Drop rows with any missing values\n",
    "df = df.dropna()\n",
    "\n",
    "# Alternatively, fill missing values with a specific value\n",
    "# df = df.fillna(value)"
   ]
  },
  {
   "cell_type": "code",
   "execution_count": 35,
   "id": "593afd6a-dd71-41dd-9d8b-655089f8c098",
   "metadata": {},
   "outputs": [
    {
     "name": "stdout",
     "output_type": "stream",
     "text": [
      "CPU times: user 1.5 s, sys: 157 ms, total: 1.66 s\n",
      "Wall time: 5.72 s\n"
     ]
    }
   ],
   "source": [
    "%%time\n",
    "\n",
    "chunk_iter = wr.athena.read_sql_query(\n",
    "    sql=\"SELECT * FROM {}\".format(table_name_csv),\n",
    "    database=\"{}\".format(database_name),\n",
    "    chunksize=64_000,  # 64 KB Chunks\n",
    ")"
   ]
  },
  {
   "cell_type": "code",
   "execution_count": 37,
   "id": "65c88fdb-d0b3-4c8c-b7ec-bb20da1f355e",
   "metadata": {},
   "outputs": [],
   "source": [
    "import pandas as pd\n",
    "# Concatenate chunks into a single DataFrame\n",
    "df = pd.concat(chunk_iter)"
   ]
  },
  {
   "cell_type": "code",
   "execution_count": 50,
   "id": "ee470637-de5b-4add-9b62-f32487ed312d",
   "metadata": {},
   "outputs": [],
   "source": [
    "# Drop rows with any missing values\n",
    "df = df.dropna()\n",
    "\n",
    "# Alternatively, fill missing values with a specific value\n",
    "# df = df.fillna(value)"
   ]
  },
  {
   "cell_type": "code",
   "execution_count": 38,
   "id": "4cfdede3-bf9c-4322-9779-a8fc35dde83d",
   "metadata": {},
   "outputs": [
    {
     "name": "stdout",
     "output_type": "stream",
     "text": [
      "Query 1 Result:\n",
      "                     artists                 track_name  popularity\n",
      "19904  Sam Smith;Kim Petras  Unholy (feat. Kim Petras)         100\n",
      "77485  Sam Smith;Kim Petras  Unholy (feat. Kim Petras)         100\n"
     ]
    }
   ],
   "source": [
    "# Query 1: List artist, track_name, and popularity for songs with popularity >= 99\n",
    "query_1_result = df[df['popularity'] >= 99][['artists', 'track_name', 'popularity']]\n",
    "\n",
    "# Display results\n",
    "print(\"Query 1 Result:\\n\", query_1_result)"
   ]
  },
  {
   "cell_type": "code",
   "execution_count": 39,
   "id": "c35dc994-60df-46f8-ad5b-acab49d55eff",
   "metadata": {},
   "outputs": [
    {
     "name": "stdout",
     "output_type": "stream",
     "text": [
      "\n",
      "Query 2 Result:\n",
      "                  artists  popularity\n",
      "11534       Harry Styles        92.0\n",
      "22866  Rema;Selena Gomez        92.0\n"
     ]
    }
   ],
   "source": [
    "# Query 2: List artists with an average popularity of 92\n",
    "query_2_result = df.groupby('artists')['popularity'].mean().reset_index()\n",
    "query_2_result = query_2_result[query_2_result['popularity'] == 92]\n",
    "\n",
    "# Display results\n",
    "print(\"\\nQuery 2 Result:\\n\", query_2_result)"
   ]
  },
  {
   "cell_type": "code",
   "execution_count": 40,
   "id": "14581ced-0340-478e-81ab-759a6e2ef55b",
   "metadata": {},
   "outputs": [
    {
     "name": "stdout",
     "output_type": "stream",
     "text": [
      "\n",
      "Query 3 Result:\n",
      "   track_genre     energy\n",
      "0       0.797  1174026.0\n",
      "1       0.556   691306.0\n",
      "2       0.492   542000.0\n",
      "3        0.45   538160.0\n",
      "4       0.347   526706.0\n",
      "5      0.0761   502786.0\n",
      "6      0.0903   449813.0\n",
      "7       0.035   440310.0\n",
      "8       0.483   371160.0\n",
      "9     0.00392   365760.0\n"
     ]
    }
   ],
   "source": [
    "# Query 3: List the Top 10 most energetic genres\n",
    "query_3_result = df.groupby('track_genre')['energy'].mean().sort_values(ascending=False).head(10).reset_index()\n",
    "\n",
    "# Display results\n",
    "print(\"\\nQuery 3 Result:\\n\", query_3_result)"
   ]
  },
  {
   "cell_type": "code",
   "execution_count": 41,
   "id": "33d5deaf-dc3d-4cf8-916e-bd227bd71705",
   "metadata": {},
   "outputs": [
    {
     "name": "stdout",
     "output_type": "stream",
     "text": [
      "\n",
      "Query 4 Result:\n",
      " 412\n"
     ]
    }
   ],
   "source": [
    "# Query 4: How many tracks is Bad Bunny on?\n",
    "query_4_result = df[df['artists'].str.contains('Bad Bunny', case=False)]['track_name'].count()\n",
    "\n",
    "# Display results\n",
    "print(\"\\nQuery 4 Result:\\n\", query_4_result)"
   ]
  },
  {
   "cell_type": "code",
   "execution_count": 53,
   "id": "4a84974c-1757-41e9-bf27-de223e2a7390",
   "metadata": {},
   "outputs": [
    {
     "name": "stdout",
     "output_type": "stream",
     "text": [
      "\n",
      "Query 5 Result:\n",
      "       track_genre  popularity\n",
      "77485         pop         100\n",
      "19904       dance         100\n",
      "68009      latino          98\n",
      "89069   reggaeton          98\n",
      "88068      reggae          98\n",
      "33269         edm          98\n",
      "67071       latin          98\n",
      "90661        rock          96\n",
      "75437       piano          96\n",
      "2002     alt-rock          93\n"
     ]
    }
   ],
   "source": [
    "# Query 5: Show the top 10 genres in terms of popularity sorted by their most popular track\n",
    "# Find the index of the most popular track for each genre\n",
    "most_popular_track_indices = df.groupby('track_genre')['popularity'].idxmax()\n",
    "\n",
    "# Get the corresponding rows from the original dataframe\n",
    "most_popular_tracks = df.loc[most_popular_track_indices]\n",
    "\n",
    "# Drop any rows with missing values and sort genres based on the popularity of their most popular track\n",
    "sorted_genres = most_popular_tracks.dropna().sort_values(by='popularity', ascending=False)\n",
    "\n",
    "# Display the top 10 genres\n",
    "query_5_result = sorted_genres.head(10)[['track_genre', 'popularity']]\n",
    "\n",
    "# Display results\n",
    "print(\"\\nQuery 5 Result:\\n\", query_5_result)"
   ]
  },
  {
   "cell_type": "code",
   "execution_count": 47,
   "id": "01f92644-0b85-460b-a61c-7e0a2ef66683",
   "metadata": {},
   "outputs": [
    {
     "ename": "ValueError",
     "evalue": "attempt to get argmax of an empty sequence",
     "output_type": "error",
     "traceback": [
      "\u001b[0;31m---------------------------------------------------------------------------\u001b[0m",
      "\u001b[0;31mValueError\u001b[0m                                Traceback (most recent call last)",
      "Cell \u001b[0;32mIn[47], line 1\u001b[0m\n\u001b[0;32m----> 1\u001b[0m query_5_result \u001b[38;5;241m=\u001b[39m \u001b[43mdf\u001b[49m\u001b[38;5;241;43m.\u001b[39;49m\u001b[43mgroupby\u001b[49m\u001b[43m(\u001b[49m\u001b[38;5;124;43m'\u001b[39;49m\u001b[38;5;124;43mtrack_genre\u001b[39;49m\u001b[38;5;124;43m'\u001b[39;49m\u001b[43m)\u001b[49m\u001b[38;5;241;43m.\u001b[39;49m\u001b[43mapply\u001b[49m\u001b[43m(\u001b[49m\u001b[38;5;28;43;01mlambda\u001b[39;49;00m\u001b[43m \u001b[49m\u001b[43mx\u001b[49m\u001b[43m:\u001b[49m\u001b[43m \u001b[49m\u001b[43mx\u001b[49m\u001b[38;5;241;43m.\u001b[39;49m\u001b[43mloc\u001b[49m\u001b[43m[\u001b[49m\u001b[43mx\u001b[49m\u001b[43m[\u001b[49m\u001b[38;5;124;43m'\u001b[39;49m\u001b[38;5;124;43mpopularity\u001b[39;49m\u001b[38;5;124;43m'\u001b[39;49m\u001b[43m]\u001b[49m\u001b[38;5;241;43m.\u001b[39;49m\u001b[43midxmax\u001b[49m\u001b[43m(\u001b[49m\u001b[43m)\u001b[49m\u001b[43m]\u001b[49m\u001b[43m)\u001b[49m\u001b[38;5;241m.\u001b[39msort_values(by\u001b[38;5;241m=\u001b[39m\u001b[38;5;124m'\u001b[39m\u001b[38;5;124mpopularity\u001b[39m\u001b[38;5;124m'\u001b[39m, ascending\u001b[38;5;241m=\u001b[39m\u001b[38;5;28;01mFalse\u001b[39;00m)\u001b[38;5;241m.\u001b[39mhead(\u001b[38;5;241m10\u001b[39m)\n",
      "File \u001b[0;32m/opt/conda/lib/python3.10/site-packages/pandas/core/groupby/groupby.py:1770\u001b[0m, in \u001b[0;36mGroupBy.apply\u001b[0;34m(self, func, *args, **kwargs)\u001b[0m\n\u001b[1;32m   1768\u001b[0m \u001b[38;5;28;01mwith\u001b[39;00m option_context(\u001b[38;5;124m\"\u001b[39m\u001b[38;5;124mmode.chained_assignment\u001b[39m\u001b[38;5;124m\"\u001b[39m, \u001b[38;5;28;01mNone\u001b[39;00m):\n\u001b[1;32m   1769\u001b[0m     \u001b[38;5;28;01mtry\u001b[39;00m:\n\u001b[0;32m-> 1770\u001b[0m         result \u001b[38;5;241m=\u001b[39m \u001b[38;5;28;43mself\u001b[39;49m\u001b[38;5;241;43m.\u001b[39;49m\u001b[43m_python_apply_general\u001b[49m\u001b[43m(\u001b[49m\u001b[43mf\u001b[49m\u001b[43m,\u001b[49m\u001b[43m \u001b[49m\u001b[38;5;28;43mself\u001b[39;49m\u001b[38;5;241;43m.\u001b[39;49m\u001b[43m_selected_obj\u001b[49m\u001b[43m)\u001b[49m\n\u001b[1;32m   1771\u001b[0m     \u001b[38;5;28;01mexcept\u001b[39;00m \u001b[38;5;167;01mTypeError\u001b[39;00m:\n\u001b[1;32m   1772\u001b[0m         \u001b[38;5;66;03m# gh-20949\u001b[39;00m\n\u001b[1;32m   1773\u001b[0m         \u001b[38;5;66;03m# try again, with .apply acting as a filtering\u001b[39;00m\n\u001b[0;32m   (...)\u001b[0m\n\u001b[1;32m   1777\u001b[0m         \u001b[38;5;66;03m# fails on *some* columns, e.g. a numeric operation\u001b[39;00m\n\u001b[1;32m   1778\u001b[0m         \u001b[38;5;66;03m# on a string grouper column\u001b[39;00m\n\u001b[1;32m   1780\u001b[0m         \u001b[38;5;28;01mreturn\u001b[39;00m \u001b[38;5;28mself\u001b[39m\u001b[38;5;241m.\u001b[39m_python_apply_general(f, \u001b[38;5;28mself\u001b[39m\u001b[38;5;241m.\u001b[39m_obj_with_exclusions)\n",
      "File \u001b[0;32m/opt/conda/lib/python3.10/site-packages/pandas/core/groupby/groupby.py:1819\u001b[0m, in \u001b[0;36mGroupBy._python_apply_general\u001b[0;34m(self, f, data, not_indexed_same, is_transform, is_agg)\u001b[0m\n\u001b[1;32m   1784\u001b[0m \u001b[38;5;129m@final\u001b[39m\n\u001b[1;32m   1785\u001b[0m \u001b[38;5;28;01mdef\u001b[39;00m \u001b[38;5;21m_python_apply_general\u001b[39m(\n\u001b[1;32m   1786\u001b[0m     \u001b[38;5;28mself\u001b[39m,\n\u001b[0;32m   (...)\u001b[0m\n\u001b[1;32m   1791\u001b[0m     is_agg: \u001b[38;5;28mbool\u001b[39m \u001b[38;5;241m=\u001b[39m \u001b[38;5;28;01mFalse\u001b[39;00m,\n\u001b[1;32m   1792\u001b[0m ) \u001b[38;5;241m-\u001b[39m\u001b[38;5;241m>\u001b[39m NDFrameT:\n\u001b[1;32m   1793\u001b[0m \u001b[38;5;250m    \u001b[39m\u001b[38;5;124;03m\"\"\"\u001b[39;00m\n\u001b[1;32m   1794\u001b[0m \u001b[38;5;124;03m    Apply function f in python space\u001b[39;00m\n\u001b[1;32m   1795\u001b[0m \n\u001b[0;32m   (...)\u001b[0m\n\u001b[1;32m   1817\u001b[0m \u001b[38;5;124;03m        data after applying f\u001b[39;00m\n\u001b[1;32m   1818\u001b[0m \u001b[38;5;124;03m    \"\"\"\u001b[39;00m\n\u001b[0;32m-> 1819\u001b[0m     values, mutated \u001b[38;5;241m=\u001b[39m \u001b[38;5;28;43mself\u001b[39;49m\u001b[38;5;241;43m.\u001b[39;49m\u001b[43mgrouper\u001b[49m\u001b[38;5;241;43m.\u001b[39;49m\u001b[43mapply_groupwise\u001b[49m\u001b[43m(\u001b[49m\u001b[43mf\u001b[49m\u001b[43m,\u001b[49m\u001b[43m \u001b[49m\u001b[43mdata\u001b[49m\u001b[43m,\u001b[49m\u001b[43m \u001b[49m\u001b[38;5;28;43mself\u001b[39;49m\u001b[38;5;241;43m.\u001b[39;49m\u001b[43maxis\u001b[49m\u001b[43m)\u001b[49m\n\u001b[1;32m   1820\u001b[0m     \u001b[38;5;28;01mif\u001b[39;00m not_indexed_same \u001b[38;5;129;01mis\u001b[39;00m \u001b[38;5;28;01mNone\u001b[39;00m:\n\u001b[1;32m   1821\u001b[0m         not_indexed_same \u001b[38;5;241m=\u001b[39m mutated\n",
      "File \u001b[0;32m/opt/conda/lib/python3.10/site-packages/pandas/core/groupby/ops.py:905\u001b[0m, in \u001b[0;36mBaseGrouper.apply_groupwise\u001b[0;34m(self, f, data, axis)\u001b[0m\n\u001b[1;32m    903\u001b[0m \u001b[38;5;66;03m# group might be modified\u001b[39;00m\n\u001b[1;32m    904\u001b[0m group_axes \u001b[38;5;241m=\u001b[39m group\u001b[38;5;241m.\u001b[39maxes\n\u001b[0;32m--> 905\u001b[0m res \u001b[38;5;241m=\u001b[39m \u001b[43mf\u001b[49m\u001b[43m(\u001b[49m\u001b[43mgroup\u001b[49m\u001b[43m)\u001b[49m\n\u001b[1;32m    906\u001b[0m \u001b[38;5;28;01mif\u001b[39;00m \u001b[38;5;129;01mnot\u001b[39;00m mutated \u001b[38;5;129;01mand\u001b[39;00m \u001b[38;5;129;01mnot\u001b[39;00m _is_indexed_like(res, group_axes, axis):\n\u001b[1;32m    907\u001b[0m     mutated \u001b[38;5;241m=\u001b[39m \u001b[38;5;28;01mTrue\u001b[39;00m\n",
      "Cell \u001b[0;32mIn[47], line 1\u001b[0m, in \u001b[0;36m<lambda>\u001b[0;34m(x)\u001b[0m\n\u001b[0;32m----> 1\u001b[0m query_5_result \u001b[38;5;241m=\u001b[39m df\u001b[38;5;241m.\u001b[39mgroupby(\u001b[38;5;124m'\u001b[39m\u001b[38;5;124mtrack_genre\u001b[39m\u001b[38;5;124m'\u001b[39m)\u001b[38;5;241m.\u001b[39mapply(\u001b[38;5;28;01mlambda\u001b[39;00m x: x\u001b[38;5;241m.\u001b[39mloc[\u001b[43mx\u001b[49m\u001b[43m[\u001b[49m\u001b[38;5;124;43m'\u001b[39;49m\u001b[38;5;124;43mpopularity\u001b[39;49m\u001b[38;5;124;43m'\u001b[39;49m\u001b[43m]\u001b[49m\u001b[38;5;241;43m.\u001b[39;49m\u001b[43midxmax\u001b[49m\u001b[43m(\u001b[49m\u001b[43m)\u001b[49m])\u001b[38;5;241m.\u001b[39msort_values(by\u001b[38;5;241m=\u001b[39m\u001b[38;5;124m'\u001b[39m\u001b[38;5;124mpopularity\u001b[39m\u001b[38;5;124m'\u001b[39m, ascending\u001b[38;5;241m=\u001b[39m\u001b[38;5;28;01mFalse\u001b[39;00m)\u001b[38;5;241m.\u001b[39mhead(\u001b[38;5;241m10\u001b[39m)\n",
      "File \u001b[0;32m/opt/conda/lib/python3.10/site-packages/pandas/core/series.py:2641\u001b[0m, in \u001b[0;36mSeries.idxmax\u001b[0;34m(self, axis, skipna, *args, **kwargs)\u001b[0m\n\u001b[1;32m   2636\u001b[0m \u001b[38;5;28;01mwith\u001b[39;00m warnings\u001b[38;5;241m.\u001b[39mcatch_warnings():\n\u001b[1;32m   2637\u001b[0m     \u001b[38;5;66;03m# TODO(3.0): this catching/filtering can be removed\u001b[39;00m\n\u001b[1;32m   2638\u001b[0m     \u001b[38;5;66;03m# ignore warning produced by argmax since we will issue a different\u001b[39;00m\n\u001b[1;32m   2639\u001b[0m     \u001b[38;5;66;03m#  warning for argmax\u001b[39;00m\n\u001b[1;32m   2640\u001b[0m     warnings\u001b[38;5;241m.\u001b[39msimplefilter(\u001b[38;5;124m\"\u001b[39m\u001b[38;5;124mignore\u001b[39m\u001b[38;5;124m\"\u001b[39m)\n\u001b[0;32m-> 2641\u001b[0m     i \u001b[38;5;241m=\u001b[39m \u001b[38;5;28;43mself\u001b[39;49m\u001b[38;5;241;43m.\u001b[39;49m\u001b[43margmax\u001b[49m\u001b[43m(\u001b[49m\u001b[43maxis\u001b[49m\u001b[43m,\u001b[49m\u001b[43m \u001b[49m\u001b[43mskipna\u001b[49m\u001b[43m,\u001b[49m\u001b[43m \u001b[49m\u001b[38;5;241;43m*\u001b[39;49m\u001b[43margs\u001b[49m\u001b[43m,\u001b[49m\u001b[43m \u001b[49m\u001b[38;5;241;43m*\u001b[39;49m\u001b[38;5;241;43m*\u001b[39;49m\u001b[43mkwargs\u001b[49m\u001b[43m)\u001b[49m\n\u001b[1;32m   2643\u001b[0m \u001b[38;5;28;01mif\u001b[39;00m i \u001b[38;5;241m==\u001b[39m \u001b[38;5;241m-\u001b[39m\u001b[38;5;241m1\u001b[39m:\n\u001b[1;32m   2644\u001b[0m     \u001b[38;5;66;03m# GH#43587 give correct NA value for Index.\u001b[39;00m\n\u001b[1;32m   2645\u001b[0m     warnings\u001b[38;5;241m.\u001b[39mwarn(\n\u001b[1;32m   2646\u001b[0m         \u001b[38;5;124mf\u001b[39m\u001b[38;5;124m\"\u001b[39m\u001b[38;5;124mThe behavior of \u001b[39m\u001b[38;5;132;01m{\u001b[39;00m\u001b[38;5;28mtype\u001b[39m(\u001b[38;5;28mself\u001b[39m)\u001b[38;5;241m.\u001b[39m\u001b[38;5;18m__name__\u001b[39m\u001b[38;5;132;01m}\u001b[39;00m\u001b[38;5;124m.idxmax with all-NA \u001b[39m\u001b[38;5;124m\"\u001b[39m\n\u001b[1;32m   2647\u001b[0m         \u001b[38;5;124m\"\u001b[39m\u001b[38;5;124mvalues, or any-NA and skipna=False, is deprecated. In a future \u001b[39m\u001b[38;5;124m\"\u001b[39m\n\u001b[0;32m   (...)\u001b[0m\n\u001b[1;32m   2650\u001b[0m         stacklevel\u001b[38;5;241m=\u001b[39mfind_stack_level(),\n\u001b[1;32m   2651\u001b[0m     )\n",
      "File \u001b[0;32m/opt/conda/lib/python3.10/site-packages/pandas/core/base.py:749\u001b[0m, in \u001b[0;36mIndexOpsMixin.argmax\u001b[0;34m(self, axis, skipna, *args, **kwargs)\u001b[0m\n\u001b[1;32m    747\u001b[0m         \u001b[38;5;28;01mreturn\u001b[39;00m \u001b[38;5;241m-\u001b[39m\u001b[38;5;241m1\u001b[39m\n\u001b[1;32m    748\u001b[0m     \u001b[38;5;28;01melse\u001b[39;00m:\n\u001b[0;32m--> 749\u001b[0m         \u001b[38;5;28;01mreturn\u001b[39;00m \u001b[43mdelegate\u001b[49m\u001b[38;5;241;43m.\u001b[39;49m\u001b[43margmax\u001b[49m\u001b[43m(\u001b[49m\u001b[43m)\u001b[49m\n\u001b[1;32m    750\u001b[0m \u001b[38;5;28;01melse\u001b[39;00m:\n\u001b[1;32m    751\u001b[0m     result \u001b[38;5;241m=\u001b[39m nanops\u001b[38;5;241m.\u001b[39mnanargmax(delegate, skipna\u001b[38;5;241m=\u001b[39mskipna)\n",
      "File \u001b[0;32m/opt/conda/lib/python3.10/site-packages/pandas/core/arrays/base.py:881\u001b[0m, in \u001b[0;36mExtensionArray.argmax\u001b[0;34m(self, skipna)\u001b[0m\n\u001b[1;32m    879\u001b[0m \u001b[38;5;28;01mif\u001b[39;00m \u001b[38;5;129;01mnot\u001b[39;00m skipna \u001b[38;5;129;01mand\u001b[39;00m \u001b[38;5;28mself\u001b[39m\u001b[38;5;241m.\u001b[39m_hasna:\n\u001b[1;32m    880\u001b[0m     \u001b[38;5;28;01mraise\u001b[39;00m \u001b[38;5;167;01mNotImplementedError\u001b[39;00m\n\u001b[0;32m--> 881\u001b[0m \u001b[38;5;28;01mreturn\u001b[39;00m \u001b[43mnargminmax\u001b[49m\u001b[43m(\u001b[49m\u001b[38;5;28;43mself\u001b[39;49m\u001b[43m,\u001b[49m\u001b[43m \u001b[49m\u001b[38;5;124;43m\"\u001b[39;49m\u001b[38;5;124;43margmax\u001b[39;49m\u001b[38;5;124;43m\"\u001b[39;49m\u001b[43m)\u001b[49m\n",
      "File \u001b[0;32m/opt/conda/lib/python3.10/site-packages/pandas/core/sorting.py:527\u001b[0m, in \u001b[0;36mnargminmax\u001b[0;34m(values, method, axis)\u001b[0m\n\u001b[1;32m    524\u001b[0m         \u001b[38;5;28;01mreturn\u001b[39;00m np\u001b[38;5;241m.\u001b[39marray([_nanargminmax(v, m, func) \u001b[38;5;28;01mfor\u001b[39;00m v, m \u001b[38;5;129;01min\u001b[39;00m zipped])\n\u001b[1;32m    525\u001b[0m     \u001b[38;5;28;01mreturn\u001b[39;00m func(arr_values, axis\u001b[38;5;241m=\u001b[39maxis)\n\u001b[0;32m--> 527\u001b[0m \u001b[38;5;28;01mreturn\u001b[39;00m \u001b[43m_nanargminmax\u001b[49m\u001b[43m(\u001b[49m\u001b[43marr_values\u001b[49m\u001b[43m,\u001b[49m\u001b[43m \u001b[49m\u001b[43mmask\u001b[49m\u001b[43m,\u001b[49m\u001b[43m \u001b[49m\u001b[43mfunc\u001b[49m\u001b[43m)\u001b[49m\n",
      "File \u001b[0;32m/opt/conda/lib/python3.10/site-packages/pandas/core/sorting.py:538\u001b[0m, in \u001b[0;36m_nanargminmax\u001b[0;34m(values, mask, func)\u001b[0m\n\u001b[1;32m    535\u001b[0m non_nans \u001b[38;5;241m=\u001b[39m values[\u001b[38;5;241m~\u001b[39mmask]\n\u001b[1;32m    536\u001b[0m non_nan_idx \u001b[38;5;241m=\u001b[39m idx[\u001b[38;5;241m~\u001b[39mmask]\n\u001b[0;32m--> 538\u001b[0m \u001b[38;5;28;01mreturn\u001b[39;00m non_nan_idx[\u001b[43mfunc\u001b[49m\u001b[43m(\u001b[49m\u001b[43mnon_nans\u001b[49m\u001b[43m)\u001b[49m]\n",
      "File \u001b[0;32m/opt/conda/lib/python3.10/site-packages/numpy/core/fromnumeric.py:1229\u001b[0m, in \u001b[0;36margmax\u001b[0;34m(a, axis, out, keepdims)\u001b[0m\n\u001b[1;32m   1142\u001b[0m \u001b[38;5;250m\u001b[39m\u001b[38;5;124;03m\"\"\"\u001b[39;00m\n\u001b[1;32m   1143\u001b[0m \u001b[38;5;124;03mReturns the indices of the maximum values along an axis.\u001b[39;00m\n\u001b[1;32m   1144\u001b[0m \n\u001b[0;32m   (...)\u001b[0m\n\u001b[1;32m   1226\u001b[0m \u001b[38;5;124;03m(2, 1, 4)\u001b[39;00m\n\u001b[1;32m   1227\u001b[0m \u001b[38;5;124;03m\"\"\"\u001b[39;00m\n\u001b[1;32m   1228\u001b[0m kwds \u001b[38;5;241m=\u001b[39m {\u001b[38;5;124m'\u001b[39m\u001b[38;5;124mkeepdims\u001b[39m\u001b[38;5;124m'\u001b[39m: keepdims} \u001b[38;5;28;01mif\u001b[39;00m keepdims \u001b[38;5;129;01mis\u001b[39;00m \u001b[38;5;129;01mnot\u001b[39;00m np\u001b[38;5;241m.\u001b[39m_NoValue \u001b[38;5;28;01melse\u001b[39;00m {}\n\u001b[0;32m-> 1229\u001b[0m \u001b[38;5;28;01mreturn\u001b[39;00m \u001b[43m_wrapfunc\u001b[49m\u001b[43m(\u001b[49m\u001b[43ma\u001b[49m\u001b[43m,\u001b[49m\u001b[43m \u001b[49m\u001b[38;5;124;43m'\u001b[39;49m\u001b[38;5;124;43margmax\u001b[39;49m\u001b[38;5;124;43m'\u001b[39;49m\u001b[43m,\u001b[49m\u001b[43m \u001b[49m\u001b[43maxis\u001b[49m\u001b[38;5;241;43m=\u001b[39;49m\u001b[43maxis\u001b[49m\u001b[43m,\u001b[49m\u001b[43m \u001b[49m\u001b[43mout\u001b[49m\u001b[38;5;241;43m=\u001b[39;49m\u001b[43mout\u001b[49m\u001b[43m,\u001b[49m\u001b[43m \u001b[49m\u001b[38;5;241;43m*\u001b[39;49m\u001b[38;5;241;43m*\u001b[39;49m\u001b[43mkwds\u001b[49m\u001b[43m)\u001b[49m\n",
      "File \u001b[0;32m/opt/conda/lib/python3.10/site-packages/numpy/core/fromnumeric.py:59\u001b[0m, in \u001b[0;36m_wrapfunc\u001b[0;34m(obj, method, *args, **kwds)\u001b[0m\n\u001b[1;32m     56\u001b[0m     \u001b[38;5;28;01mreturn\u001b[39;00m _wrapit(obj, method, \u001b[38;5;241m*\u001b[39margs, \u001b[38;5;241m*\u001b[39m\u001b[38;5;241m*\u001b[39mkwds)\n\u001b[1;32m     58\u001b[0m \u001b[38;5;28;01mtry\u001b[39;00m:\n\u001b[0;32m---> 59\u001b[0m     \u001b[38;5;28;01mreturn\u001b[39;00m \u001b[43mbound\u001b[49m\u001b[43m(\u001b[49m\u001b[38;5;241;43m*\u001b[39;49m\u001b[43margs\u001b[49m\u001b[43m,\u001b[49m\u001b[43m \u001b[49m\u001b[38;5;241;43m*\u001b[39;49m\u001b[38;5;241;43m*\u001b[39;49m\u001b[43mkwds\u001b[49m\u001b[43m)\u001b[49m\n\u001b[1;32m     60\u001b[0m \u001b[38;5;28;01mexcept\u001b[39;00m \u001b[38;5;167;01mTypeError\u001b[39;00m:\n\u001b[1;32m     61\u001b[0m     \u001b[38;5;66;03m# A TypeError occurs if the object does have such a method in its\u001b[39;00m\n\u001b[1;32m     62\u001b[0m     \u001b[38;5;66;03m# class, but its signature is not identical to that of NumPy's. This\u001b[39;00m\n\u001b[0;32m   (...)\u001b[0m\n\u001b[1;32m     66\u001b[0m     \u001b[38;5;66;03m# Call _wrapit from within the except clause to ensure a potential\u001b[39;00m\n\u001b[1;32m     67\u001b[0m     \u001b[38;5;66;03m# exception has a traceback chain.\u001b[39;00m\n\u001b[1;32m     68\u001b[0m     \u001b[38;5;28;01mreturn\u001b[39;00m _wrapit(obj, method, \u001b[38;5;241m*\u001b[39margs, \u001b[38;5;241m*\u001b[39m\u001b[38;5;241m*\u001b[39mkwds)\n",
      "\u001b[0;31mValueError\u001b[0m: attempt to get argmax of an empty sequence"
     ]
    }
   ],
   "source": [
    "query_5_result = df.groupby('track_genre').apply(lambda x: x.loc[x['popularity'].idxmax()]).sort_values(by='popularity', ascending=False).head(10)"
   ]
  },
  {
   "cell_type": "code",
   "execution_count": 13,
   "id": "bc6f77db-c10f-401f-8b3f-3eb62ff9b360",
   "metadata": {},
   "outputs": [
    {
     "data": {
      "text/html": [
       "\n",
       "<p><b>Shutting down your kernel for this notebook to release resources.</b></p>\n",
       "<button class=\"sm-command-button\" data-commandlinker-command=\"kernelmenu:shutdown\" style=\"display:none;\">Shutdown Kernel</button>\n",
       "        \n",
       "<script>\n",
       "try {\n",
       "    els = document.getElementsByClassName(\"sm-command-button\");\n",
       "    els[0].click();\n",
       "}\n",
       "catch(err) {\n",
       "    // NoOp\n",
       "}    \n",
       "</script>\n"
      ],
      "text/plain": [
       "<IPython.core.display.HTML object>"
      ]
     },
     "metadata": {},
     "output_type": "display_data"
    }
   ],
   "source": [
    "%%html\n",
    "\n",
    "<p><b>Shutting down your kernel for this notebook to release resources.</b></p>\n",
    "<button class=\"sm-command-button\" data-commandlinker-command=\"kernelmenu:shutdown\" style=\"display:none;\">Shutdown Kernel</button>\n",
    "        \n",
    "<script>\n",
    "try {\n",
    "    els = document.getElementsByClassName(\"sm-command-button\");\n",
    "    els[0].click();\n",
    "}\n",
    "catch(err) {\n",
    "    // NoOp\n",
    "}    \n",
    "</script>"
   ]
  },
  {
   "cell_type": "code",
   "execution_count": null,
   "id": "a67b2957-1520-4fed-bfc2-9977ab0b87a1",
   "metadata": {},
   "outputs": [],
   "source": []
  }
 ],
 "metadata": {
  "kernelspec": {
   "display_name": "Python 3 (ipykernel)",
   "language": "python",
   "name": "python3"
  },
  "language_info": {
   "codemirror_mode": {
    "name": "ipython",
    "version": 3
   },
   "file_extension": ".py",
   "mimetype": "text/x-python",
   "name": "python",
   "nbconvert_exporter": "python",
   "pygments_lexer": "ipython3",
   "version": "3.10.13"
  }
 },
 "nbformat": 4,
 "nbformat_minor": 5
}
