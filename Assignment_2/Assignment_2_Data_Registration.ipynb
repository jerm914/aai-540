{
 "cells": [
  {
   "cell_type": "markdown",
   "id": "4fd76568-a1cb-4cfb-bf68-5d176b89fb34",
   "metadata": {},
   "source": [
    "# Register TSV Data With Athena"
   ]
  },
  {
   "cell_type": "code",
   "execution_count": 71,
   "id": "a03eece6-8082-4f82-83ce-d8894885e581",
   "metadata": {},
   "outputs": [],
   "source": [
    "import boto3\n",
    "import sagemaker\n",
    "\n",
    "sess = sagemaker.Session()\n",
    "bucket = sess.default_bucket()\n",
    "role = sagemaker.get_execution_role()\n",
    "region = boto3.Session().region_name"
   ]
  },
  {
   "cell_type": "code",
   "execution_count": 72,
   "id": "856c28c1-8cfd-45e0-b761-5d93533b361d",
   "metadata": {},
   "outputs": [],
   "source": [
    "ingest_create_athena_table_csv_passed = False"
   ]
  },
  {
   "cell_type": "code",
   "execution_count": 73,
   "id": "13917787-789f-47ea-b45a-4888836cba1e",
   "metadata": {},
   "outputs": [],
   "source": [
    "%store -r ingest_create_athena_db_passed"
   ]
  },
  {
   "cell_type": "code",
   "execution_count": 74,
   "id": "63e8b630-1bd6-4bba-95ac-4add89081bc3",
   "metadata": {},
   "outputs": [],
   "source": [
    "try:\n",
    "    ingest_create_athena_db_passed\n",
    "except NameError:\n",
    "    print(\"++++++++++++++++++++++++++++++++++++++++++++++\")\n",
    "    print(\"[ERROR] YOU HAVE TO RUN ALL PREVIOUS NOTEBOOKS.  You did not create the Athena Database.\")\n",
    "    print(\"++++++++++++++++++++++++++++++++++++++++++++++\")"
   ]
  },
  {
   "cell_type": "code",
   "execution_count": 75,
   "id": "39d3e18d-7c2a-43f1-8b37-00a25390c58b",
   "metadata": {},
   "outputs": [
    {
     "name": "stdout",
     "output_type": "stream",
     "text": [
      "True\n"
     ]
    }
   ],
   "source": [
    "print(ingest_create_athena_db_passed)"
   ]
  },
  {
   "cell_type": "code",
   "execution_count": 76,
   "id": "7f4e6281-ed5b-4afb-8647-07dd78281b88",
   "metadata": {},
   "outputs": [
    {
     "name": "stdout",
     "output_type": "stream",
     "text": [
      "[OK]\n"
     ]
    }
   ],
   "source": [
    "if not ingest_create_athena_db_passed:\n",
    "    print(\"++++++++++++++++++++++++++++++++++++++++++++++\")\n",
    "    print(\"[ERROR] YOU HAVE TO RUN ALL PREVIOUS NOTEBOOKS.  You did not create the Athena Database.\")\n",
    "    print(\"++++++++++++++++++++++++++++++++++++++++++++++\")\n",
    "else:\n",
    "    print(\"[OK]\")"
   ]
  },
  {
   "cell_type": "code",
   "execution_count": 77,
   "id": "67527665-1754-400f-b433-d88148d8915c",
   "metadata": {},
   "outputs": [],
   "source": [
    "%store -r s3_private_path_csv"
   ]
  },
  {
   "cell_type": "code",
   "execution_count": 78,
   "id": "247a9c7f-90ec-430f-83a6-8a6ae741ed5a",
   "metadata": {},
   "outputs": [],
   "source": [
    "try:\n",
    "    s3_private_path_csv\n",
    "except NameError:\n",
    "    print(\"*****************************************************************************\")\n",
    "    print(\"[ERROR] PLEASE RE-RUN THE PREVIOUS COPY TSV TO S3 NOTEBOOK ******************\")\n",
    "    print(\"[ERROR] THIS NOTEBOOK WILL NOT RUN PROPERLY. ********************************\")\n",
    "    print(\"*****************************************************************************\")"
   ]
  },
  {
   "cell_type": "code",
   "execution_count": 79,
   "id": "cb713755-b756-4c7a-81a9-d1118171676b",
   "metadata": {},
   "outputs": [
    {
     "name": "stdout",
     "output_type": "stream",
     "text": [
      "s3://sagemaker-us-east-1-339129315232/Assignment_2\n"
     ]
    }
   ],
   "source": [
    "print(s3_private_path_csv)"
   ]
  },
  {
   "cell_type": "markdown",
   "id": "0162193f-eabf-4817-b375-74aa7692ac3e",
   "metadata": {},
   "source": [
    "# Import PyAthena"
   ]
  },
  {
   "cell_type": "code",
   "execution_count": 80,
   "id": "c505d52a-d32f-4756-b63b-76a07d487085",
   "metadata": {},
   "outputs": [],
   "source": [
    "from pyathena import connect"
   ]
  },
  {
   "cell_type": "markdown",
   "id": "73bf18e4-1321-4fde-a7d8-9f4a8eee16fa",
   "metadata": {},
   "source": [
    "#### Dataset columns\n",
    "\n",
    "- `Track ID`: ID for the specific track\n",
    "- `artists`: Name of the band/artist that wrote the track\n",
    "- `track_name`: name of the song.\n",
    "- `popularity`: rating.\n",
    "- `duration_ms`: Song length in MS.\n",
    "- `explicit`: Explicit version true or false\n",
    "- `dancability`: likely to make you dance.\n",
    "- `energy`:\n",
    "- `key`: \n",
    "- `loudness`:\n",
    "- `mode`: \n",
    "- `speechiness`: \n",
    "- `acousticness`: \n",
    "- `instrumentalness`: \n",
    "- `liveness`:\n",
    "- `valence`:\n",
    "- `tempo`:\n",
    "- `time_signature`:\n",
    "- `track_genre`:\n"
   ]
  },
  {
   "cell_type": "code",
   "execution_count": 81,
   "id": "49b8d32f-be95-4beb-959a-bf888084b97a",
   "metadata": {},
   "outputs": [],
   "source": [
    "# Set S3 staging directory -- this is a temporary directory used for Athena queries\n",
    "s3_staging_dir = \"s3://{0}/athena/staging\".format(bucket)"
   ]
  },
  {
   "cell_type": "code",
   "execution_count": 82,
   "id": "a85a6729-8b03-4f9c-920f-530b3f3e9864",
   "metadata": {},
   "outputs": [],
   "source": [
    "# Set Athena parameters\n",
    "database_name = \"dsoaws1\"\n",
    "table_name_csv = \"cleaned_data_csv\""
   ]
  },
  {
   "cell_type": "code",
   "execution_count": 83,
   "id": "ebe2ed1b-8d07-4a09-ae11-015368a5d8c3",
   "metadata": {},
   "outputs": [],
   "source": [
    "conn = connect(region_name=region, s3_staging_dir=s3_staging_dir)"
   ]
  },
  {
   "cell_type": "code",
   "execution_count": 84,
   "id": "fde36387-b14c-45a6-86ed-968d81c269cf",
   "metadata": {},
   "outputs": [
    {
     "name": "stdout",
     "output_type": "stream",
     "text": [
      "CREATE EXTERNAL TABLE IF NOT EXISTS dsoaws1.cleaned_data_csv(\n",
      "    track_id VARCHAR(255),\n",
      "    artists VARCHAR(255),\n",
      "    track_name VARCHAR(255),\n",
      "    popularity INT,\n",
      "    duration_ms INT,\n",
      "    explicit BOOLEAN,\n",
      "    danceability FLOAT,\n",
      "    energy FLOAT,\n",
      "    key INT,\n",
      "    loudness FLOAT,\n",
      "    mode INT,\n",
      "    speechiness FLOAT,\n",
      "    acousticness FLOAT,\n",
      "    instrumentalness FLOAT,\n",
      "    liveness FLOAT,\n",
      "    valence FLOAT,\n",
      "    tempo FLOAT,\n",
      "    time_signature INT,\n",
      "    track_genre VARCHAR(255)\n",
      ") ROW FORMAT DELIMITED FIELDS TERMINATED BY ',' LINES TERMINATED BY '\\n' LOCATION 's3://sagemaker-us-east-1-339129315232/Assignment_2'\n",
      "TBLPROPERTIES ('compressionType'='gzip', 'skip.header.line.count'='1')\n"
     ]
    }
   ],
   "source": [
    "# SQL statement to execute\n",
    "statement = \"\"\"CREATE EXTERNAL TABLE IF NOT EXISTS {}.{}(\n",
    "    track_id VARCHAR(255),\n",
    "    artists VARCHAR(255),\n",
    "    track_name VARCHAR(255),\n",
    "    popularity INT,\n",
    "    duration_ms INT,\n",
    "    explicit BOOLEAN,\n",
    "    danceability FLOAT,\n",
    "    energy FLOAT,\n",
    "    key INT,\n",
    "    loudness FLOAT,\n",
    "    mode INT,\n",
    "    speechiness FLOAT,\n",
    "    acousticness FLOAT,\n",
    "    instrumentalness FLOAT,\n",
    "    liveness FLOAT,\n",
    "    valence FLOAT,\n",
    "    tempo FLOAT,\n",
    "    time_signature INT,\n",
    "    track_genre VARCHAR(255)\n",
    ") ROW FORMAT DELIMITED FIELDS TERMINATED BY ',' LINES TERMINATED BY '\\\\n' LOCATION '{}'\n",
    "TBLPROPERTIES ('compressionType'='gzip', 'skip.header.line.count'='1')\"\"\".format(\n",
    "    database_name, table_name_csv, s3_private_path_csv\n",
    ")\n",
    "\n",
    "print(statement)"
   ]
  },
  {
   "cell_type": "code",
   "execution_count": 85,
   "id": "dced10c4-2d05-47b9-be3c-36f29e088a07",
   "metadata": {},
   "outputs": [
    {
     "name": "stderr",
     "output_type": "stream",
     "text": [
      "/tmp/ipykernel_123/3803073958.py:3: UserWarning: pandas only supports SQLAlchemy connectable (engine/connection) or database string URI or sqlite3 DBAPI2 connection. Other DBAPI2 objects are not tested. Please consider using SQLAlchemy.\n",
      "  pd.read_sql(statement, conn)\n"
     ]
    },
    {
     "data": {
      "text/html": [
       "<div>\n",
       "<style scoped>\n",
       "    .dataframe tbody tr th:only-of-type {\n",
       "        vertical-align: middle;\n",
       "    }\n",
       "\n",
       "    .dataframe tbody tr th {\n",
       "        vertical-align: top;\n",
       "    }\n",
       "\n",
       "    .dataframe thead th {\n",
       "        text-align: right;\n",
       "    }\n",
       "</style>\n",
       "<table border=\"1\" class=\"dataframe\">\n",
       "  <thead>\n",
       "    <tr style=\"text-align: right;\">\n",
       "      <th></th>\n",
       "    </tr>\n",
       "  </thead>\n",
       "  <tbody>\n",
       "  </tbody>\n",
       "</table>\n",
       "</div>"
      ],
      "text/plain": [
       "Empty DataFrame\n",
       "Columns: []\n",
       "Index: []"
      ]
     },
     "execution_count": 85,
     "metadata": {},
     "output_type": "execute_result"
    }
   ],
   "source": [
    "import pandas as pd\n",
    "\n",
    "pd.read_sql(statement, conn)"
   ]
  },
  {
   "cell_type": "code",
   "execution_count": 86,
   "id": "0c24ac7f-e2e0-4e9f-bdc3-03a9c1dc8d47",
   "metadata": {},
   "outputs": [
    {
     "name": "stderr",
     "output_type": "stream",
     "text": [
      "/tmp/ipykernel_123/2201015668.py:3: UserWarning: pandas only supports SQLAlchemy connectable (engine/connection) or database string URI or sqlite3 DBAPI2 connection. Other DBAPI2 objects are not tested. Please consider using SQLAlchemy.\n",
      "  df_show = pd.read_sql(statement, conn)\n"
     ]
    },
    {
     "data": {
      "text/html": [
       "<div>\n",
       "<style scoped>\n",
       "    .dataframe tbody tr th:only-of-type {\n",
       "        vertical-align: middle;\n",
       "    }\n",
       "\n",
       "    .dataframe tbody tr th {\n",
       "        vertical-align: top;\n",
       "    }\n",
       "\n",
       "    .dataframe thead th {\n",
       "        text-align: right;\n",
       "    }\n",
       "</style>\n",
       "<table border=\"1\" class=\"dataframe\">\n",
       "  <thead>\n",
       "    <tr style=\"text-align: right;\">\n",
       "      <th></th>\n",
       "      <th>tab_name</th>\n",
       "    </tr>\n",
       "  </thead>\n",
       "  <tbody>\n",
       "    <tr>\n",
       "      <th>0</th>\n",
       "      <td>cleaned_data_csv</td>\n",
       "    </tr>\n",
       "  </tbody>\n",
       "</table>\n",
       "</div>"
      ],
      "text/plain": [
       "           tab_name\n",
       "0  cleaned_data_csv"
      ]
     },
     "execution_count": 86,
     "metadata": {},
     "output_type": "execute_result"
    }
   ],
   "source": [
    "statement = \"SHOW TABLES in {}\".format(database_name)\n",
    "\n",
    "df_show = pd.read_sql(statement, conn)\n",
    "df_show.head(5)"
   ]
  },
  {
   "cell_type": "code",
   "execution_count": 87,
   "id": "8df4ae3b-9565-43d0-8584-c27c74e15b9e",
   "metadata": {},
   "outputs": [],
   "source": [
    "if table_name_csv in df_show.values:\n",
    "    ingest_create_athena_table_csv_passed = True"
   ]
  },
  {
   "cell_type": "code",
   "execution_count": 88,
   "id": "5c9d8594-e6ff-41ea-ab79-abe87c108f2a",
   "metadata": {},
   "outputs": [
    {
     "name": "stdout",
     "output_type": "stream",
     "text": [
      "Stored 'ingest_create_athena_table_csv_passed' (bool)\n"
     ]
    }
   ],
   "source": [
    "%store ingest_create_athena_table_csv_passed"
   ]
  },
  {
   "cell_type": "code",
   "execution_count": 89,
   "id": "bdc5949a-d3dd-44e3-bd5a-d68c0b88b1cd",
   "metadata": {},
   "outputs": [
    {
     "name": "stderr",
     "output_type": "stream",
     "text": [
      "/tmp/ipykernel_123/49453657.py:9: UserWarning: pandas only supports SQLAlchemy connectable (engine/connection) or database string URI or sqlite3 DBAPI2 connection. Other DBAPI2 objects are not tested. Please consider using SQLAlchemy.\n",
      "  df = pd.read_sql(statement, conn)\n"
     ]
    },
    {
     "name": "stdout",
     "output_type": "stream",
     "text": [
      "                artists                 track_name  popularity\n",
      "0  Sam Smith;Kim Petras  Unholy (feat. Kim Petras)         100\n",
      "1  Sam Smith;Kim Petras  Unholy (feat. Kim Petras)         100\n"
     ]
    }
   ],
   "source": [
    "# List artist, track_name, and popularity for songs that have a popularity greater than or equal to 99\n",
    "statement = f\"\"\"\n",
    "SELECT artists, track_name, popularity  \n",
    "FROM {database_name}.{table_name_csv}\n",
    "WHERE popularity > 98\n",
    "\"\"\"\n",
    "\n",
    "# Execute the query and store the result in a DataFrame\n",
    "df = pd.read_sql(statement, conn)\n",
    "\n",
    "# Display the first 5 rows of the result\n",
    "print(df.head(5))"
   ]
  },
  {
   "cell_type": "code",
   "execution_count": 90,
   "id": "8e47fed6-6635-46b5-8874-4ef34da79ba9",
   "metadata": {},
   "outputs": [
    {
     "name": "stderr",
     "output_type": "stream",
     "text": [
      "/tmp/ipykernel_123/379252283.py:10: UserWarning: pandas only supports SQLAlchemy connectable (engine/connection) or database string URI or sqlite3 DBAPI2 connection. Other DBAPI2 objects are not tested. Please consider using SQLAlchemy.\n",
      "  df_2 = pd.read_sql(query_2, conn)\n"
     ]
    },
    {
     "name": "stdout",
     "output_type": "stream",
     "text": [
      "             artists  avg_popularity\n",
      "0       Harry Styles            92.0\n",
      "1  Rema;Selena Gomez            92.0\n"
     ]
    }
   ],
   "source": [
    "# List artists with an average popularity of 92\n",
    "query_2 = f\"\"\"\n",
    "SELECT artists, AVG(popularity) as avg_popularity\n",
    "FROM {database_name}.{table_name_csv}\n",
    "GROUP BY artists\n",
    "HAVING AVG(popularity) = 92\n",
    "\"\"\"\n",
    "\n",
    "# Execute the query and store the result in a DataFrame\n",
    "df_2 = pd.read_sql(query_2, conn)\n",
    "\n",
    "# Display the result\n",
    "print(df_2)"
   ]
  },
  {
   "cell_type": "code",
   "execution_count": 113,
   "id": "a6c24ee5-117c-4d82-9242-9b901d2167e9",
   "metadata": {},
   "outputs": [
    {
     "name": "stderr",
     "output_type": "stream",
     "text": [
      "/tmp/ipykernel_123/104331639.py:13: UserWarning: pandas only supports SQLAlchemy connectable (engine/connection) or database string URI or sqlite3 DBAPI2 connection. Other DBAPI2 objects are not tested. Please consider using SQLAlchemy.\n",
      "  df_3 = pd.read_sql(query_3, conn)\n"
     ]
    },
    {
     "name": "stdout",
     "output_type": "stream",
     "text": [
      "  track_genre  avg_energy\n",
      "0       0.688    0.000000\n",
      "1       0.227    0.000000\n",
      "2           0    0.000000\n",
      "3     new-age    0.217076\n",
      "4     ambient    0.238977\n",
      "5       0.224    0.250000\n",
      "6     romance    0.300693\n",
      "7      disney    0.302719\n",
      "8       piano    0.315877\n",
      "9      guitar    0.325546\n"
     ]
    }
   ],
   "source": [
    "# List the Top 10 most energetic genres\n",
    "query_3 = f\"\"\"\n",
    "SELECT\n",
    "    track_genre,\n",
    "    avg(energy) AS avg_energy\n",
    "FROM {database_name}.{table_name_csv}\n",
    "GROUP BY track_genre\n",
    "ORDER BY avg_energy \n",
    "LIMIT 10\n",
    "\"\"\"\n",
    "\n",
    "# Execute the query and store the result in a DataFrame\n",
    "df_3 = pd.read_sql(query_3, conn)\n",
    "\n",
    "# Display the result\n",
    "print(df_3)"
   ]
  },
  {
   "cell_type": "code",
   "execution_count": 34,
   "id": "efb2a8f9-2693-4802-b2d0-c0bdf27c6aca",
   "metadata": {},
   "outputs": [
    {
     "name": "stderr",
     "output_type": "stream",
     "text": [
      "/tmp/ipykernel_123/3849218040.py:9: UserWarning: pandas only supports SQLAlchemy connectable (engine/connection) or database string URI or sqlite3 DBAPI2 connection. Other DBAPI2 objects are not tested. Please consider using SQLAlchemy.\n",
      "  df_4 = pd.read_sql(query_4, conn)\n"
     ]
    },
    {
     "name": "stdout",
     "output_type": "stream",
     "text": [
      "   track_count\n",
      "0          412\n"
     ]
    }
   ],
   "source": [
    "# How many tracks is Bad Bunny on:\n",
    "query_4 = f\"\"\"\n",
    "SELECT\n",
    "    COUNT(*) AS track_count\n",
    "FROM {database_name}.{table_name_csv}\n",
    "WHERE artists LIKE '%Bad Bunny%';\n",
    "\"\"\"\n",
    "\n",
    "# Execute the query and store the result in a DataFrame\n",
    "df_4 = pd.read_sql(query_4, conn)\n",
    "\n",
    "# Display the result\n",
    "print(df_4)"
   ]
  },
  {
   "cell_type": "code",
   "execution_count": 115,
   "id": "914cc007-928c-46ef-8c83-186f80432f06",
   "metadata": {},
   "outputs": [
    {
     "name": "stderr",
     "output_type": "stream",
     "text": [
      "/tmp/ipykernel_123/3230666881.py:14: UserWarning: pandas only supports SQLAlchemy connectable (engine/connection) or database string URI or sqlite3 DBAPI2 connection. Other DBAPI2 objects are not tested. Please consider using SQLAlchemy.\n",
      "  df_5 = pd.read_sql(query_5, conn)\n"
     ]
    },
    {
     "name": "stdout",
     "output_type": "stream",
     "text": [
      "       genre  max_popularity                  most_popular_track\n",
      "0      dance             100                          ブラッディー・マリー\n",
      "1        pop             100                 ダンシング・ウィズ・ア・ストレンジャー\n",
      "2      latin              98  Échame La Culpa - Not On You Remix\n",
      "3  reggaeton              98                      ¿Qué Nos Pasó?\n",
      "4     latino              98                      cómo dormiste?\n",
      "5        edm              98                        you heard me\n",
      "6     reggae              98                                韻波句徒\n",
      "7      piano              96               원펀맨 Theme - Sad Theme\n",
      "8       rock              96                                 紅蓮華\n",
      "9      chill              93                           your love\n"
     ]
    }
   ],
   "source": [
    "# Show the top 10 genres in terms of popularity sorted by their most popular track:\n",
    "query_5 = f\"\"\"\n",
    "SELECT\n",
    "    track_genre AS genre,\n",
    "    MAX(popularity) AS max_popularity,\n",
    "    MAX(track_name) AS most_popular_track\n",
    "FROM {database_name}.{table_name_csv}\n",
    "GROUP BY track_genre\n",
    "ORDER BY max_popularity DESC\n",
    "LIMIT 10;\n",
    "\"\"\"\n",
    "\n",
    "# Execute the query and store the result in a DataFrame\n",
    "df_5 = pd.read_sql(query_5, conn)\n",
    "\n",
    "# Display the result\n",
    "print(df_5)"
   ]
  },
  {
   "cell_type": "code",
   "execution_count": 116,
   "id": "68b89c25-1158-44e5-8e3d-adf9c18793e3",
   "metadata": {},
   "outputs": [
    {
     "name": "stdout",
     "output_type": "stream",
     "text": [
      "Stored variables and their in-db values:\n",
      "ingest_create_athena_db_passed                        -> True\n",
      "ingest_create_athena_table_csv_passed                 -> True\n",
      "ingest_create_athena_table_parquet_passed             -> True\n",
      "ingest_create_athena_table_tsv_passed                 -> True\n",
      "s3_private_path_csv                                   -> 's3://sagemaker-us-east-1-339129315232/Assignment_\n",
      "s3_private_path_tsv                                   -> 's3://sagemaker-us-east-1-339129315232/amazon-revi\n",
      "s3_public_path_csv                                    -> 's3://dsoaws1/Assignment_2/'\n",
      "s3_public_path_tsv                                    -> 's3://dsoaws/amazon-reviews-pds/tsv'\n",
      "setup_dependencies_passed                             -> True\n",
      "setup_s3_bucket_passed                                -> True\n"
     ]
    }
   ],
   "source": [
    "%store"
   ]
  },
  {
   "cell_type": "code",
   "execution_count": 117,
   "id": "aa0db82f-8364-44e8-ac27-4ef088873991",
   "metadata": {},
   "outputs": [
    {
     "data": {
      "text/html": [
       "\n",
       "<p><b>Shutting down your kernel for this notebook to release resources.</b></p>\n",
       "<button class=\"sm-command-button\" data-commandlinker-command=\"kernelmenu:shutdown\" style=\"display:none;\">Shutdown Kernel</button>\n",
       "        \n",
       "<script>\n",
       "try {\n",
       "    els = document.getElementsByClassName(\"sm-command-button\");\n",
       "    els[0].click();\n",
       "}\n",
       "catch(err) {\n",
       "    // NoOp\n",
       "}    \n",
       "</script>\n"
      ],
      "text/plain": [
       "<IPython.core.display.HTML object>"
      ]
     },
     "metadata": {},
     "output_type": "display_data"
    }
   ],
   "source": [
    "%%html\n",
    "\n",
    "<p><b>Shutting down your kernel for this notebook to release resources.</b></p>\n",
    "<button class=\"sm-command-button\" data-commandlinker-command=\"kernelmenu:shutdown\" style=\"display:none;\">Shutdown Kernel</button>\n",
    "        \n",
    "<script>\n",
    "try {\n",
    "    els = document.getElementsByClassName(\"sm-command-button\");\n",
    "    els[0].click();\n",
    "}\n",
    "catch(err) {\n",
    "    // NoOp\n",
    "}    \n",
    "</script>"
   ]
  },
  {
   "cell_type": "code",
   "execution_count": 92,
   "id": "9f999417-904d-4863-b767-69533ecfb38d",
   "metadata": {},
   "outputs": [
    {
     "name": "stderr",
     "output_type": "stream",
     "text": [
      "/tmp/ipykernel_123/1984789438.py:9: UserWarning: pandas only supports SQLAlchemy connectable (engine/connection) or database string URI or sqlite3 DBAPI2 connection. Other DBAPI2 objects are not tested. Please consider using SQLAlchemy.\n",
      "  df_full = pd.read_sql(query_full, conn)\n"
     ]
    },
    {
     "name": "stdout",
     "output_type": "stream",
     "text": [
      "                      track_id                 artists  \\\n",
      "0       5SuOikwiRyPMVoIQDJUgSV             Gen Hoshino   \n",
      "1       4qPNDBW1i3p13qLCt0Ki3A            Ben Woodward   \n",
      "2       1iJBSr7s7jYXzM8EGcbK5b  Ingrid Michaelson;ZAYN   \n",
      "3       6lfxq3CG4xtTiEg7opyCyx            Kina Grannis   \n",
      "4       5vjLSffimiIP26QG5WcN2K        Chord Overstreet   \n",
      "...                        ...                     ...   \n",
      "113544  2C3TZjDRiAzdyViavDJ217           Rainy Lullaby   \n",
      "113545  1hIz5L4IB9hN3WRYPOCGPw           Rainy Lullaby   \n",
      "113546  6x8ZfSoqDjuNa5SVP5QjvX           Cesária Evora   \n",
      "113547  2e6sXL2bYv4bSz6VTdnfLs        Michael W. Smith   \n",
      "113548  2hETkH7cOfqmz3LqZDHZf5           Cesária Evora   \n",
      "\n",
      "                        track_name  popularity  duration_ms explicit  \\\n",
      "0                           Comedy        73.0     230666.0    False   \n",
      "1                 Ghost - Acoustic        55.0     149610.0    False   \n",
      "2                   To Begin Again        57.0     210826.0    False   \n",
      "3       Can't Help Falling In Love        71.0     201933.0    False   \n",
      "4                          Hold On        82.0     198853.0    False   \n",
      "...                            ...         ...          ...      ...   \n",
      "113544         Sleep My Little Boy        21.0     384999.0    False   \n",
      "113545            Water Into Light        22.0     385000.0    False   \n",
      "113546              Miss Perfumado        22.0     271466.0    False   \n",
      "113547                     Friends        41.0     283893.0    False   \n",
      "113548                   Barbincor        22.0     241826.0    False   \n",
      "\n",
      "        danceability  energy  key  loudness  mode  speechiness  acousticness  \\\n",
      "0              0.676  0.4610  1.0    -6.746   0.0       0.1430        0.0322   \n",
      "1              0.420  0.1660  1.0   -17.235   1.0       0.0763        0.9240   \n",
      "2              0.438  0.3590  0.0    -9.734   1.0       0.0557        0.2100   \n",
      "3              0.266  0.0596  0.0   -18.515   1.0       0.0363        0.9050   \n",
      "4              0.618  0.4430  2.0    -9.681   1.0       0.0526        0.4690   \n",
      "...              ...     ...  ...       ...   ...          ...           ...   \n",
      "113544         0.172  0.2350  5.0   -16.393   1.0       0.0422        0.6400   \n",
      "113545         0.174  0.1170  0.0   -18.318   0.0       0.0401        0.9940   \n",
      "113546         0.629  0.3290  0.0   -10.895   0.0       0.0420        0.8670   \n",
      "113547         0.587  0.5060  7.0   -10.889   1.0       0.0297        0.3810   \n",
      "113548         0.526  0.4870  1.0   -10.204   0.0       0.0725        0.6810   \n",
      "\n",
      "        instrumentalness  liveness  valence    tempo  time_signature  \\\n",
      "0               0.000001    0.3580   0.7150   87.917             4.0   \n",
      "1               0.000006    0.1010   0.2670   77.489             4.0   \n",
      "2               0.000000    0.1170   0.1200   76.332             4.0   \n",
      "3               0.000071    0.1320   0.1430  181.740             3.0   \n",
      "4               0.000000    0.0829   0.1670  119.949             4.0   \n",
      "...                  ...       ...      ...      ...             ...   \n",
      "113544          0.928000    0.0863   0.0339  125.995             5.0   \n",
      "113545          0.976000    0.1050   0.0350   85.239             4.0   \n",
      "113546          0.000000    0.0839   0.7430  132.378             4.0   \n",
      "113547          0.000000    0.2700   0.4130  135.960             4.0   \n",
      "113548          0.000000    0.0893   0.7080   79.198             4.0   \n",
      "\n",
      "        track_genre  \n",
      "0          acoustic  \n",
      "1          acoustic  \n",
      "2          acoustic  \n",
      "3          acoustic  \n",
      "4          acoustic  \n",
      "...             ...  \n",
      "113544  world-music  \n",
      "113545  world-music  \n",
      "113546  world-music  \n",
      "113547  world-music  \n",
      "113548  world-music  \n",
      "\n",
      "[113549 rows x 19 columns]\n"
     ]
    }
   ],
   "source": [
    "# Show the top 10 genres in terms of popularity sorted by their most popular track:\n",
    "query_full = f\"\"\"\n",
    "SELECT\n",
    "    *\n",
    "FROM dsoaws1.cleaned_data_csv;\n",
    "\"\"\"\n",
    "\n",
    "# Execute the query and store the result in a DataFrame\n",
    "df_full = pd.read_sql(query_full, conn)\n",
    "\n",
    "# Display the result\n",
    "print(df_full)"
   ]
  },
  {
   "cell_type": "code",
   "execution_count": null,
   "id": "3d5f15dd-aa57-49d8-b197-ca2d61408d28",
   "metadata": {},
   "outputs": [],
   "source": []
  }
 ],
 "metadata": {
  "kernelspec": {
   "display_name": "Python 3 (ipykernel)",
   "language": "python",
   "name": "python3"
  },
  "language_info": {
   "codemirror_mode": {
    "name": "ipython",
    "version": 3
   },
   "file_extension": ".py",
   "mimetype": "text/x-python",
   "name": "python",
   "nbconvert_exporter": "python",
   "pygments_lexer": "ipython3",
   "version": "3.10.13"
  }
 },
 "nbformat": 4,
 "nbformat_minor": 5
}
