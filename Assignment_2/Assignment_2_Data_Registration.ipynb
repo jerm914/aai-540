{
 "cells": [
  {
   "cell_type": "markdown",
   "id": "4fd76568-a1cb-4cfb-bf68-5d176b89fb34",
   "metadata": {},
   "source": [
    "# Register TSV Data With Athena"
   ]
  },
  {
   "cell_type": "code",
   "execution_count": 1,
   "id": "a03eece6-8082-4f82-83ce-d8894885e581",
   "metadata": {},
   "outputs": [],
   "source": [
    "import boto3\n",
    "import sagemaker\n",
    "\n",
    "sess = sagemaker.Session()\n",
    "bucket = sess.default_bucket()\n",
    "role = sagemaker.get_execution_role()\n",
    "region = boto3.Session().region_name"
   ]
  },
  {
   "cell_type": "code",
   "execution_count": 2,
   "id": "856c28c1-8cfd-45e0-b761-5d93533b361d",
   "metadata": {},
   "outputs": [],
   "source": [
    "ingest_create_athena_table_csv_passed = False"
   ]
  },
  {
   "cell_type": "code",
   "execution_count": 3,
   "id": "13917787-789f-47ea-b45a-4888836cba1e",
   "metadata": {},
   "outputs": [],
   "source": [
    "%store -r ingest_create_athena_db_passed"
   ]
  },
  {
   "cell_type": "code",
   "execution_count": 4,
   "id": "63e8b630-1bd6-4bba-95ac-4add89081bc3",
   "metadata": {},
   "outputs": [],
   "source": [
    "try:\n",
    "    ingest_create_athena_db_passed\n",
    "except NameError:\n",
    "    print(\"++++++++++++++++++++++++++++++++++++++++++++++\")\n",
    "    print(\"[ERROR] YOU HAVE TO RUN ALL PREVIOUS NOTEBOOKS.  You did not create the Athena Database.\")\n",
    "    print(\"++++++++++++++++++++++++++++++++++++++++++++++\")"
   ]
  },
  {
   "cell_type": "code",
   "execution_count": 5,
   "id": "39d3e18d-7c2a-43f1-8b37-00a25390c58b",
   "metadata": {},
   "outputs": [
    {
     "name": "stdout",
     "output_type": "stream",
     "text": [
      "True\n"
     ]
    }
   ],
   "source": [
    "print(ingest_create_athena_db_passed)"
   ]
  },
  {
   "cell_type": "code",
   "execution_count": 6,
   "id": "7f4e6281-ed5b-4afb-8647-07dd78281b88",
   "metadata": {},
   "outputs": [
    {
     "name": "stdout",
     "output_type": "stream",
     "text": [
      "[OK]\n"
     ]
    }
   ],
   "source": [
    "if not ingest_create_athena_db_passed:\n",
    "    print(\"++++++++++++++++++++++++++++++++++++++++++++++\")\n",
    "    print(\"[ERROR] YOU HAVE TO RUN ALL PREVIOUS NOTEBOOKS.  You did not create the Athena Database.\")\n",
    "    print(\"++++++++++++++++++++++++++++++++++++++++++++++\")\n",
    "else:\n",
    "    print(\"[OK]\")"
   ]
  },
  {
   "cell_type": "code",
   "execution_count": 7,
   "id": "67527665-1754-400f-b433-d88148d8915c",
   "metadata": {},
   "outputs": [],
   "source": [
    "%store -r s3_private_path_csv"
   ]
  },
  {
   "cell_type": "code",
   "execution_count": 9,
   "id": "247a9c7f-90ec-430f-83a6-8a6ae741ed5a",
   "metadata": {},
   "outputs": [],
   "source": [
    "try:\n",
    "    s3_private_path_csv\n",
    "except NameError:\n",
    "    print(\"*****************************************************************************\")\n",
    "    print(\"[ERROR] PLEASE RE-RUN THE PREVIOUS COPY TSV TO S3 NOTEBOOK ******************\")\n",
    "    print(\"[ERROR] THIS NOTEBOOK WILL NOT RUN PROPERLY. ********************************\")\n",
    "    print(\"*****************************************************************************\")"
   ]
  },
  {
   "cell_type": "code",
   "execution_count": 10,
   "id": "cb713755-b756-4c7a-81a9-d1118171676b",
   "metadata": {},
   "outputs": [
    {
     "name": "stdout",
     "output_type": "stream",
     "text": [
      "s3://sagemaker-us-east-1-339129315232/Assignment_2\n"
     ]
    }
   ],
   "source": [
    "print(s3_private_path_csv)"
   ]
  },
  {
   "cell_type": "markdown",
   "id": "0162193f-eabf-4817-b375-74aa7692ac3e",
   "metadata": {},
   "source": [
    "# Import PyAthena"
   ]
  },
  {
   "cell_type": "code",
   "execution_count": 11,
   "id": "c505d52a-d32f-4756-b63b-76a07d487085",
   "metadata": {},
   "outputs": [],
   "source": [
    "from pyathena import connect"
   ]
  },
  {
   "cell_type": "markdown",
   "id": "73bf18e4-1321-4fde-a7d8-9f4a8eee16fa",
   "metadata": {},
   "source": [
    "#### Dataset columns\n",
    "\n",
    "- `Track ID`: ID for the specific track\n",
    "- `artists`: Name of the band/artist that wrote the track\n",
    "- `album_name`: Name of album\n",
    "- `track_name`: name of the song.\n",
    "- `popularity`: rating.\n",
    "- `duration_ms`: Song length in MS.\n",
    "- `explicit`: Explicit version true or false\n",
    "- `dancability`: likely to make you dance.\n",
    "- `energy`:\n",
    "- `key`: \n",
    "- `loudness`:\n",
    "- `mode`: \n",
    "- `speechiness`: \n",
    "- `acousticness`: \n",
    "- `instrumentalness`: \n",
    "- `liveness`:\n",
    "- `valence`:\n",
    "- `tempo`:\n",
    "- `time_signature`:\n",
    "- `track_genre`:\n"
   ]
  },
  {
   "cell_type": "code",
   "execution_count": 12,
   "id": "49b8d32f-be95-4beb-959a-bf888084b97a",
   "metadata": {},
   "outputs": [],
   "source": [
    "# Set S3 staging directory -- this is a temporary directory used for Athena queries\n",
    "s3_staging_dir = \"s3://{0}/athena/staging\".format(bucket)"
   ]
  },
  {
   "cell_type": "code",
   "execution_count": 13,
   "id": "a85a6729-8b03-4f9c-920f-530b3f3e9864",
   "metadata": {},
   "outputs": [],
   "source": [
    "# Set Athena parameters\n",
    "database_name = \"dsoaws\"\n",
    "table_name_csv = \"Assignment_2\""
   ]
  },
  {
   "cell_type": "code",
   "execution_count": 14,
   "id": "ebe2ed1b-8d07-4a09-ae11-015368a5d8c3",
   "metadata": {},
   "outputs": [],
   "source": [
    "conn = connect(region_name=region, s3_staging_dir=s3_staging_dir)"
   ]
  },
  {
   "cell_type": "code",
   "execution_count": null,
   "id": "afa998cc-6282-4d76-a030-186fc818e944",
   "metadata": {},
   "outputs": [],
   "source": [
    "# SQL statement to execute\n",
    "statement = \"\"\"CREATE EXTERNAL TABLE IF NOT EXISTS {}.{}(\n",
    "         Track ID string,\n",
    "         artists string,\n",
    "         album_name string,\n",
    "         track_name string,\n",
    "         popularity string,\n",
    "         duration_ms string,\n",
    "         explicit string,\n",
    "         dancability int,\n",
    "         energy int,\n",
    "         key int,\n",
    "         loudness string,\n",
    "         verified_purchase string,\n",
    "         review_headline string,\n",
    "         review_body string,\n",
    "         review_date string\n",
    ") ROW FORMAT DELIMITED FIELDS TERMINATED BY '\\\\t' LINES TERMINATED BY '\\\\n' LOCATION '{}'\n",
    "TBLPROPERTIES ('compressionType'='gzip', 'skip.header.line.count'='1')\"\"\".format(\n",
    "    database_name, table_name_tsv, s3_private_path_tsv\n",
    ")\n",
    "\n",
    "print(statement)"
   ]
  }
 ],
 "metadata": {
  "kernelspec": {
   "display_name": "Python 3 (ipykernel)",
   "language": "python",
   "name": "python3"
  },
  "language_info": {
   "codemirror_mode": {
    "name": "ipython",
    "version": 3
   },
   "file_extension": ".py",
   "mimetype": "text/x-python",
   "name": "python",
   "nbconvert_exporter": "python",
   "pygments_lexer": "ipython3",
   "version": "3.10.13"
  }
 },
 "nbformat": 4,
 "nbformat_minor": 5
}
