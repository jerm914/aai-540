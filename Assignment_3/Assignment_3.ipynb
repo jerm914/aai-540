{
 "cells": [
  {
   "attachments": {},
   "cell_type": "markdown",
   "id": "975181e4-a591-4557-81a6-ddef787e350b",
   "metadata": {},
   "source": [
    "## Setup SageMaker FeatureStore"
   ]
  },
  {
   "cell_type": "code",
   "execution_count": 9,
   "id": "81846570-d13e-43dd-ab2d-b89df2519954",
   "metadata": {},
   "outputs": [
    {
     "name": "stdout",
     "output_type": "stream",
     "text": [
      "Requirement already satisfied: boto3>1.17.21 in /opt/conda/lib/python3.10/site-packages (1.34.26)\n",
      "Requirement already satisfied: botocore<1.35.0,>=1.34.26 in /opt/conda/lib/python3.10/site-packages (from boto3>1.17.21) (1.34.26)\n",
      "Requirement already satisfied: jmespath<2.0.0,>=0.7.1 in /opt/conda/lib/python3.10/site-packages (from boto3>1.17.21) (0.10.0)\n",
      "Requirement already satisfied: s3transfer<0.11.0,>=0.10.0 in /opt/conda/lib/python3.10/site-packages (from boto3>1.17.21) (0.10.0)\n",
      "Requirement already satisfied: python-dateutil<3.0.0,>=2.1 in /opt/conda/lib/python3.10/site-packages (from botocore<1.35.0,>=1.34.26->boto3>1.17.21) (2.8.2)\n",
      "Requirement already satisfied: urllib3<2.1,>=1.25.4 in /opt/conda/lib/python3.10/site-packages (from botocore<1.35.0,>=1.34.26->boto3>1.17.21) (1.26.18)\n",
      "Requirement already satisfied: six>=1.5 in /opt/conda/lib/python3.10/site-packages (from python-dateutil<3.0.0,>=2.1->botocore<1.35.0,>=1.34.26->boto3>1.17.21) (1.16.0)\n",
      "Note: you may need to restart the kernel to use updated packages.\n"
     ]
    }
   ],
   "source": [
    "import boto3\n",
    "import sagemaker\n",
    "\n",
    "original_boto3_version = boto3.__version__\n",
    "%pip install 'boto3>1.17.21'"
   ]
  },
  {
   "cell_type": "code",
   "execution_count": 10,
   "id": "c096a406-f168-4160-8db4-e64e9d1574b3",
   "metadata": {},
   "outputs": [],
   "source": [
    "from sagemaker.session import Session\n",
    "\n",
    "region = boto3.Session().region_name\n",
    "\n",
    "boto_session = boto3.Session(region_name=region)\n",
    "\n",
    "sagemaker_client = boto_session.client(service_name=\"sagemaker\", region_name=region)\n",
    "featurestore_runtime = boto_session.client(\n",
    "    service_name=\"sagemaker-featurestore-runtime\", region_name=region\n",
    ")\n",
    "\n",
    "feature_store_session = Session(\n",
    "    boto_session=boto_session,\n",
    "    sagemaker_client=sagemaker_client,\n",
    "    sagemaker_featurestore_runtime_client=featurestore_runtime,\n",
    ")"
   ]
  },
  {
   "attachments": {},
   "cell_type": "markdown",
   "id": "91b90524-53ee-4f83-b5eb-bad22bf25783",
   "metadata": {},
   "source": [
    "#### S3 Bucket Setup For The OfflineStore"
   ]
  },
  {
   "cell_type": "code",
   "execution_count": 11,
   "id": "3ed36906-620b-450b-898a-744fde443baf",
   "metadata": {},
   "outputs": [
    {
     "name": "stdout",
     "output_type": "stream",
     "text": [
      "sagemaker-us-east-1-339129315232\n"
     ]
    }
   ],
   "source": [
    "# You can modify the following to use a bucket of your choosing\n",
    "default_s3_bucket_name = feature_store_session.default_bucket()\n",
    "prefix = \"sagemaker-assignment-3\"\n",
    "\n",
    "print(default_s3_bucket_name)"
   ]
  },
  {
   "cell_type": "code",
   "execution_count": 12,
   "id": "6fe2df0f-a596-456f-a521-1903312a63d0",
   "metadata": {},
   "outputs": [
    {
     "name": "stdout",
     "output_type": "stream",
     "text": [
      "arn:aws:iam::339129315232:role/LabRole\n"
     ]
    }
   ],
   "source": [
    "from sagemaker import get_execution_role\n",
    "\n",
    "# You can modify the following to use a role of your choosing. See the documentation for how to create this.\n",
    "role = get_execution_role()\n",
    "print(role)"
   ]
  },
  {
   "attachments": {},
   "cell_type": "markdown",
   "id": "4b247137-5845-4e32-b806-7f17c515858e",
   "metadata": {},
   "source": [
    "## Inspect Dataset"
   ]
  },
  {
   "cell_type": "code",
   "execution_count": 18,
   "id": "5bd0760e-5f41-47d2-8b0e-16ba2d3dcf3a",
   "metadata": {},
   "outputs": [],
   "source": [
    "new_working_directory = '/home/sagemaker-user/'"
   ]
  },
  {
   "cell_type": "code",
   "execution_count": 19,
   "id": "c1f1db7d-2f08-47fb-a6d4-561c3d6c8676",
   "metadata": {},
   "outputs": [],
   "source": [
    "os.chdir(new_working_directory)"
   ]
  },
  {
   "cell_type": "code",
   "execution_count": 20,
   "id": "5afcda7c-d6e5-4c3b-878b-a483d3629c17",
   "metadata": {},
   "outputs": [
    {
     "name": "stdout",
     "output_type": "stream",
     "text": [
      "Current Working Directory: /home/sagemaker-user\n"
     ]
    }
   ],
   "source": [
    "print(\"Current Working Directory:\", os.getcwd())"
   ]
  },
  {
   "cell_type": "code",
   "execution_count": 21,
   "id": "d71879d6-823c-4566-a89f-26cb7d262765",
   "metadata": {},
   "outputs": [],
   "source": [
    "import numpy as np\n",
    "import pandas as pd\n",
    "import matplotlib.pyplot as plt\n",
    "\n",
    "# Specify the full path to the CSV files\n",
    "gmaps_path = 'housing_gmaps_data_raw.csv'\n",
    "housing_path = 'aai-540-homework/homework-3-1/housing.csv'\n",
    "\n",
    "# Read data into Pandas DataFrames\n",
    "gmaps_data = pd.read_csv(gmaps_path)\n",
    "housing_data = pd.read_csv(housing_path)"
   ]
  },
  {
   "cell_type": "code",
   "execution_count": 24,
   "id": "3c2b9d2d-a67c-4c54-96d5-541e342de0e0",
   "metadata": {},
   "outputs": [
    {
     "data": {
      "text/html": [
       "<div>\n",
       "<style scoped>\n",
       "    .dataframe tbody tr th:only-of-type {\n",
       "        vertical-align: middle;\n",
       "    }\n",
       "\n",
       "    .dataframe tbody tr th {\n",
       "        vertical-align: top;\n",
       "    }\n",
       "\n",
       "    .dataframe thead th {\n",
       "        text-align: right;\n",
       "    }\n",
       "</style>\n",
       "<table border=\"1\" class=\"dataframe\">\n",
       "  <thead>\n",
       "    <tr style=\"text-align: right;\">\n",
       "      <th></th>\n",
       "      <th>street_number</th>\n",
       "      <th>route</th>\n",
       "      <th>locality-political</th>\n",
       "      <th>administrative_area_level_2-political</th>\n",
       "      <th>administrative_area_level_1-political</th>\n",
       "      <th>country-political</th>\n",
       "      <th>postal_code</th>\n",
       "      <th>address</th>\n",
       "      <th>longitude</th>\n",
       "      <th>latitude</th>\n",
       "      <th>...</th>\n",
       "      <th>establishment-natural_feature</th>\n",
       "      <th>airport-establishment-point_of_interest</th>\n",
       "      <th>political-sublocality-sublocality_level_1</th>\n",
       "      <th>administrative_area_level_3-political</th>\n",
       "      <th>post_box</th>\n",
       "      <th>establishment-light_rail_station-point_of_interest-transit_station</th>\n",
       "      <th>establishment-point_of_interest</th>\n",
       "      <th>aquarium-establishment-park-point_of_interest-tourist_attraction-zoo</th>\n",
       "      <th>campground-establishment-lodging-park-point_of_interest-rv_park-tourist_attraction</th>\n",
       "      <th>cemetery-establishment-park-point_of_interest</th>\n",
       "    </tr>\n",
       "  </thead>\n",
       "  <tbody>\n",
       "    <tr>\n",
       "      <th>0</th>\n",
       "      <td>3130</td>\n",
       "      <td>Grizzly Peak Boulevard</td>\n",
       "      <td>Berkeley</td>\n",
       "      <td>Alameda County</td>\n",
       "      <td>California</td>\n",
       "      <td>United States</td>\n",
       "      <td>94705.0</td>\n",
       "      <td>3130 Grizzly Peak Blvd, Berkeley, CA 94705, USA</td>\n",
       "      <td>-122.23</td>\n",
       "      <td>37.88</td>\n",
       "      <td>...</td>\n",
       "      <td>NaN</td>\n",
       "      <td>NaN</td>\n",
       "      <td>NaN</td>\n",
       "      <td>NaN</td>\n",
       "      <td>NaN</td>\n",
       "      <td>NaN</td>\n",
       "      <td>NaN</td>\n",
       "      <td>NaN</td>\n",
       "      <td>NaN</td>\n",
       "      <td>NaN</td>\n",
       "    </tr>\n",
       "    <tr>\n",
       "      <th>1</th>\n",
       "      <td>2005</td>\n",
       "      <td>Tunnel Road</td>\n",
       "      <td>Oakland</td>\n",
       "      <td>Alameda County</td>\n",
       "      <td>California</td>\n",
       "      <td>United States</td>\n",
       "      <td>94611.0</td>\n",
       "      <td>2005 Tunnel Rd, Oakland, CA 94611, USA</td>\n",
       "      <td>-122.22</td>\n",
       "      <td>37.86</td>\n",
       "      <td>...</td>\n",
       "      <td>NaN</td>\n",
       "      <td>NaN</td>\n",
       "      <td>NaN</td>\n",
       "      <td>NaN</td>\n",
       "      <td>NaN</td>\n",
       "      <td>NaN</td>\n",
       "      <td>NaN</td>\n",
       "      <td>NaN</td>\n",
       "      <td>NaN</td>\n",
       "      <td>NaN</td>\n",
       "    </tr>\n",
       "    <tr>\n",
       "      <th>2</th>\n",
       "      <td>6886</td>\n",
       "      <td>Chabot Road</td>\n",
       "      <td>Oakland</td>\n",
       "      <td>Alameda County</td>\n",
       "      <td>California</td>\n",
       "      <td>United States</td>\n",
       "      <td>94618.0</td>\n",
       "      <td>6886 Chabot Rd, Oakland, CA 94618, USA</td>\n",
       "      <td>-122.24</td>\n",
       "      <td>37.85</td>\n",
       "      <td>...</td>\n",
       "      <td>NaN</td>\n",
       "      <td>NaN</td>\n",
       "      <td>NaN</td>\n",
       "      <td>NaN</td>\n",
       "      <td>NaN</td>\n",
       "      <td>NaN</td>\n",
       "      <td>NaN</td>\n",
       "      <td>NaN</td>\n",
       "      <td>NaN</td>\n",
       "      <td>NaN</td>\n",
       "    </tr>\n",
       "    <tr>\n",
       "      <th>3</th>\n",
       "      <td>6365</td>\n",
       "      <td>Florio Street</td>\n",
       "      <td>Oakland</td>\n",
       "      <td>Alameda County</td>\n",
       "      <td>California</td>\n",
       "      <td>United States</td>\n",
       "      <td>94618.0</td>\n",
       "      <td>6365 Florio St, Oakland, CA 94618, USA</td>\n",
       "      <td>-122.25</td>\n",
       "      <td>37.85</td>\n",
       "      <td>...</td>\n",
       "      <td>NaN</td>\n",
       "      <td>NaN</td>\n",
       "      <td>NaN</td>\n",
       "      <td>NaN</td>\n",
       "      <td>NaN</td>\n",
       "      <td>NaN</td>\n",
       "      <td>NaN</td>\n",
       "      <td>NaN</td>\n",
       "      <td>NaN</td>\n",
       "      <td>NaN</td>\n",
       "    </tr>\n",
       "    <tr>\n",
       "      <th>4</th>\n",
       "      <td>5407</td>\n",
       "      <td>Bryant Avenue</td>\n",
       "      <td>Oakland</td>\n",
       "      <td>Alameda County</td>\n",
       "      <td>California</td>\n",
       "      <td>United States</td>\n",
       "      <td>94618.0</td>\n",
       "      <td>5407 Bryant Ave, Oakland, CA 94618, USA</td>\n",
       "      <td>-122.25</td>\n",
       "      <td>37.84</td>\n",
       "      <td>...</td>\n",
       "      <td>NaN</td>\n",
       "      <td>NaN</td>\n",
       "      <td>NaN</td>\n",
       "      <td>NaN</td>\n",
       "      <td>NaN</td>\n",
       "      <td>NaN</td>\n",
       "      <td>NaN</td>\n",
       "      <td>NaN</td>\n",
       "      <td>NaN</td>\n",
       "      <td>NaN</td>\n",
       "    </tr>\n",
       "  </tbody>\n",
       "</table>\n",
       "<p>5 rows × 30 columns</p>\n",
       "</div>"
      ],
      "text/plain": [
       "  street_number                   route locality-political  \\\n",
       "0          3130  Grizzly Peak Boulevard           Berkeley   \n",
       "1          2005             Tunnel Road            Oakland   \n",
       "2          6886             Chabot Road            Oakland   \n",
       "3          6365           Florio Street            Oakland   \n",
       "4          5407           Bryant Avenue            Oakland   \n",
       "\n",
       "  administrative_area_level_2-political administrative_area_level_1-political  \\\n",
       "0                        Alameda County                            California   \n",
       "1                        Alameda County                            California   \n",
       "2                        Alameda County                            California   \n",
       "3                        Alameda County                            California   \n",
       "4                        Alameda County                            California   \n",
       "\n",
       "  country-political  postal_code  \\\n",
       "0     United States      94705.0   \n",
       "1     United States      94611.0   \n",
       "2     United States      94618.0   \n",
       "3     United States      94618.0   \n",
       "4     United States      94618.0   \n",
       "\n",
       "                                           address  longitude  latitude  ...  \\\n",
       "0  3130 Grizzly Peak Blvd, Berkeley, CA 94705, USA    -122.23     37.88  ...   \n",
       "1           2005 Tunnel Rd, Oakland, CA 94611, USA    -122.22     37.86  ...   \n",
       "2           6886 Chabot Rd, Oakland, CA 94618, USA    -122.24     37.85  ...   \n",
       "3           6365 Florio St, Oakland, CA 94618, USA    -122.25     37.85  ...   \n",
       "4          5407 Bryant Ave, Oakland, CA 94618, USA    -122.25     37.84  ...   \n",
       "\n",
       "  establishment-natural_feature  airport-establishment-point_of_interest  \\\n",
       "0                           NaN                                      NaN   \n",
       "1                           NaN                                      NaN   \n",
       "2                           NaN                                      NaN   \n",
       "3                           NaN                                      NaN   \n",
       "4                           NaN                                      NaN   \n",
       "\n",
       "  political-sublocality-sublocality_level_1  \\\n",
       "0                                       NaN   \n",
       "1                                       NaN   \n",
       "2                                       NaN   \n",
       "3                                       NaN   \n",
       "4                                       NaN   \n",
       "\n",
       "  administrative_area_level_3-political post_box  \\\n",
       "0                                   NaN      NaN   \n",
       "1                                   NaN      NaN   \n",
       "2                                   NaN      NaN   \n",
       "3                                   NaN      NaN   \n",
       "4                                   NaN      NaN   \n",
       "\n",
       "  establishment-light_rail_station-point_of_interest-transit_station  \\\n",
       "0                                                NaN                   \n",
       "1                                                NaN                   \n",
       "2                                                NaN                   \n",
       "3                                                NaN                   \n",
       "4                                                NaN                   \n",
       "\n",
       "  establishment-point_of_interest  \\\n",
       "0                             NaN   \n",
       "1                             NaN   \n",
       "2                             NaN   \n",
       "3                             NaN   \n",
       "4                             NaN   \n",
       "\n",
       "  aquarium-establishment-park-point_of_interest-tourist_attraction-zoo  \\\n",
       "0                                                NaN                     \n",
       "1                                                NaN                     \n",
       "2                                                NaN                     \n",
       "3                                                NaN                     \n",
       "4                                                NaN                     \n",
       "\n",
       "  campground-establishment-lodging-park-point_of_interest-rv_park-tourist_attraction  \\\n",
       "0                                                NaN                                   \n",
       "1                                                NaN                                   \n",
       "2                                                NaN                                   \n",
       "3                                                NaN                                   \n",
       "4                                                NaN                                   \n",
       "\n",
       "  cemetery-establishment-park-point_of_interest  \n",
       "0                                           NaN  \n",
       "1                                           NaN  \n",
       "2                                           NaN  \n",
       "3                                           NaN  \n",
       "4                                           NaN  \n",
       "\n",
       "[5 rows x 30 columns]"
      ]
     },
     "execution_count": 24,
     "metadata": {},
     "output_type": "execute_result"
    }
   ],
   "source": [
    "gmaps_data.head()"
   ]
  },
  {
   "cell_type": "code",
   "execution_count": 25,
   "id": "bba014c4-eec0-42a4-8289-3aa9f67cf559",
   "metadata": {},
   "outputs": [
    {
     "data": {
      "text/html": [
       "<div>\n",
       "<style scoped>\n",
       "    .dataframe tbody tr th:only-of-type {\n",
       "        vertical-align: middle;\n",
       "    }\n",
       "\n",
       "    .dataframe tbody tr th {\n",
       "        vertical-align: top;\n",
       "    }\n",
       "\n",
       "    .dataframe thead th {\n",
       "        text-align: right;\n",
       "    }\n",
       "</style>\n",
       "<table border=\"1\" class=\"dataframe\">\n",
       "  <thead>\n",
       "    <tr style=\"text-align: right;\">\n",
       "      <th></th>\n",
       "      <th>longitude</th>\n",
       "      <th>latitude</th>\n",
       "      <th>housing_median_age</th>\n",
       "      <th>total_rooms</th>\n",
       "      <th>total_bedrooms</th>\n",
       "      <th>population</th>\n",
       "      <th>households</th>\n",
       "      <th>median_income</th>\n",
       "      <th>median_house_value</th>\n",
       "      <th>ocean_proximity</th>\n",
       "    </tr>\n",
       "  </thead>\n",
       "  <tbody>\n",
       "    <tr>\n",
       "      <th>0</th>\n",
       "      <td>-122.23</td>\n",
       "      <td>37.88</td>\n",
       "      <td>41.0</td>\n",
       "      <td>880.0</td>\n",
       "      <td>129.0</td>\n",
       "      <td>322.0</td>\n",
       "      <td>126.0</td>\n",
       "      <td>8.3252</td>\n",
       "      <td>452600.0</td>\n",
       "      <td>NEAR BAY</td>\n",
       "    </tr>\n",
       "    <tr>\n",
       "      <th>1</th>\n",
       "      <td>-122.22</td>\n",
       "      <td>37.86</td>\n",
       "      <td>21.0</td>\n",
       "      <td>7099.0</td>\n",
       "      <td>1106.0</td>\n",
       "      <td>2401.0</td>\n",
       "      <td>1138.0</td>\n",
       "      <td>8.3014</td>\n",
       "      <td>358500.0</td>\n",
       "      <td>NEAR BAY</td>\n",
       "    </tr>\n",
       "    <tr>\n",
       "      <th>2</th>\n",
       "      <td>-122.24</td>\n",
       "      <td>37.85</td>\n",
       "      <td>52.0</td>\n",
       "      <td>1467.0</td>\n",
       "      <td>190.0</td>\n",
       "      <td>496.0</td>\n",
       "      <td>177.0</td>\n",
       "      <td>7.2574</td>\n",
       "      <td>352100.0</td>\n",
       "      <td>NEAR BAY</td>\n",
       "    </tr>\n",
       "    <tr>\n",
       "      <th>3</th>\n",
       "      <td>-122.25</td>\n",
       "      <td>37.85</td>\n",
       "      <td>52.0</td>\n",
       "      <td>1274.0</td>\n",
       "      <td>235.0</td>\n",
       "      <td>558.0</td>\n",
       "      <td>219.0</td>\n",
       "      <td>5.6431</td>\n",
       "      <td>341300.0</td>\n",
       "      <td>NEAR BAY</td>\n",
       "    </tr>\n",
       "    <tr>\n",
       "      <th>4</th>\n",
       "      <td>-122.25</td>\n",
       "      <td>37.85</td>\n",
       "      <td>52.0</td>\n",
       "      <td>1627.0</td>\n",
       "      <td>280.0</td>\n",
       "      <td>565.0</td>\n",
       "      <td>259.0</td>\n",
       "      <td>3.8462</td>\n",
       "      <td>342200.0</td>\n",
       "      <td>NEAR BAY</td>\n",
       "    </tr>\n",
       "  </tbody>\n",
       "</table>\n",
       "</div>"
      ],
      "text/plain": [
       "   longitude  latitude  housing_median_age  total_rooms  total_bedrooms  \\\n",
       "0    -122.23     37.88                41.0        880.0           129.0   \n",
       "1    -122.22     37.86                21.0       7099.0          1106.0   \n",
       "2    -122.24     37.85                52.0       1467.0           190.0   \n",
       "3    -122.25     37.85                52.0       1274.0           235.0   \n",
       "4    -122.25     37.85                52.0       1627.0           280.0   \n",
       "\n",
       "   population  households  median_income  median_house_value ocean_proximity  \n",
       "0       322.0       126.0         8.3252            452600.0        NEAR BAY  \n",
       "1      2401.0      1138.0         8.3014            358500.0        NEAR BAY  \n",
       "2       496.0       177.0         7.2574            352100.0        NEAR BAY  \n",
       "3       558.0       219.0         5.6431            341300.0        NEAR BAY  \n",
       "4       565.0       259.0         3.8462            342200.0        NEAR BAY  "
      ]
     },
     "execution_count": 25,
     "metadata": {},
     "output_type": "execute_result"
    }
   ],
   "source": [
    "housing_data.head()"
   ]
  },
  {
   "cell_type": "code",
   "execution_count": null,
   "id": "cabc8bf8-2384-48c5-a444-fc8e82b9790f",
   "metadata": {},
   "outputs": [],
   "source": []
  },
  {
   "attachments": {},
   "cell_type": "markdown",
   "id": "64530184-9da7-423f-92b9-b1074d54b2ea",
   "metadata": {},
   "source": [
    "## Cleanup Resources"
   ]
  },
  {
   "cell_type": "code",
   "execution_count": 26,
   "id": "a95ec25e-970d-48c4-95d0-3a4db84e4508",
   "metadata": {},
   "outputs": [
    {
     "ename": "NameError",
     "evalue": "name 'predictor' is not defined",
     "output_type": "error",
     "traceback": [
      "\u001b[0;31m---------------------------------------------------------------------------\u001b[0m",
      "\u001b[0;31mNameError\u001b[0m                                 Traceback (most recent call last)",
      "Cell \u001b[0;32mIn[26], line 1\u001b[0m\n\u001b[0;32m----> 1\u001b[0m \u001b[43mpredictor\u001b[49m\u001b[38;5;241m.\u001b[39mdelete_endpoint()\n",
      "\u001b[0;31mNameError\u001b[0m: name 'predictor' is not defined"
     ]
    }
   ],
   "source": [
    "predictor.delete_endpoint()"
   ]
  },
  {
   "cell_type": "code",
   "execution_count": 27,
   "id": "3d091e68-729e-4143-91e1-78c99b553949",
   "metadata": {},
   "outputs": [
    {
     "ename": "NameError",
     "evalue": "name 'identity_feature_group' is not defined",
     "output_type": "error",
     "traceback": [
      "\u001b[0;31m---------------------------------------------------------------------------\u001b[0m",
      "\u001b[0;31mNameError\u001b[0m                                 Traceback (most recent call last)",
      "Cell \u001b[0;32mIn[27], line 1\u001b[0m\n\u001b[0;32m----> 1\u001b[0m \u001b[43midentity_feature_group\u001b[49m\u001b[38;5;241m.\u001b[39mdelete()\n\u001b[1;32m      2\u001b[0m transaction_feature_group\u001b[38;5;241m.\u001b[39mdelete()\n",
      "\u001b[0;31mNameError\u001b[0m: name 'identity_feature_group' is not defined"
     ]
    }
   ],
   "source": [
    "identity_feature_group.delete()\n",
    "transaction_feature_group.delete()"
   ]
  },
  {
   "cell_type": "code",
   "execution_count": 28,
   "id": "c1d43b20-95b0-44e4-b303-141088a79a33",
   "metadata": {},
   "outputs": [
    {
     "name": "stdout",
     "output_type": "stream",
     "text": [
      "/bin/bash: -c: line 1: syntax error near unexpected token `('\n",
      "/bin/bash: -c: line 1: `/opt/conda/bin/python -m pip install 'boto3=={}'.format(original_boto3_version)'\n",
      "Note: you may need to restart the kernel to use updated packages.\n"
     ]
    }
   ],
   "source": [
    "# restore original boto3 version\n",
    "%pip install 'boto3=={}'.format(original_boto3_version)"
   ]
  },
  {
   "cell_type": "code",
   "execution_count": 29,
   "id": "42adf5e5-114f-4d42-b204-29289251a643",
   "metadata": {},
   "outputs": [
    {
     "data": {
      "text/html": [
       "\n",
       "<p><b>Shutting down your kernel for this notebook to release resources.</b></p>\n",
       "<button class=\"sm-command-button\" data-commandlinker-command=\"kernelmenu:shutdown\" style=\"display:none;\">Shutdown Kernel</button>\n",
       "        \n",
       "<script>\n",
       "try {\n",
       "    els = document.getElementsByClassName(\"sm-command-button\");\n",
       "    els[0].click();\n",
       "}\n",
       "catch(err) {\n",
       "    // NoOp\n",
       "}    \n",
       "</script>\n"
      ],
      "text/plain": [
       "<IPython.core.display.HTML object>"
      ]
     },
     "metadata": {},
     "output_type": "display_data"
    }
   ],
   "source": [
    "%%html\n",
    "\n",
    "<p><b>Shutting down your kernel for this notebook to release resources.</b></p>\n",
    "<button class=\"sm-command-button\" data-commandlinker-command=\"kernelmenu:shutdown\" style=\"display:none;\">Shutdown Kernel</button>\n",
    "        \n",
    "<script>\n",
    "try {\n",
    "    els = document.getElementsByClassName(\"sm-command-button\");\n",
    "    els[0].click();\n",
    "}\n",
    "catch(err) {\n",
    "    // NoOp\n",
    "}    \n",
    "</script>"
   ]
  },
  {
   "cell_type": "code",
   "execution_count": null,
   "id": "4047d818-6f50-4f70-95e7-02079f14b442",
   "metadata": {},
   "outputs": [],
   "source": []
  }
 ],
 "metadata": {
  "kernelspec": {
   "display_name": "Python 3 (ipykernel)",
   "language": "python",
   "name": "python3"
  },
  "language_info": {
   "codemirror_mode": {
    "name": "ipython",
    "version": 3
   },
   "file_extension": ".py",
   "mimetype": "text/x-python",
   "name": "python",
   "nbconvert_exporter": "python",
   "pygments_lexer": "ipython3",
   "version": "3.10.13"
  }
 },
 "nbformat": 4,
 "nbformat_minor": 5
}
